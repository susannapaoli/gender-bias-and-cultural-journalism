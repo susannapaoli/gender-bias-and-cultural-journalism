{
  "nbformat": 4,
  "nbformat_minor": 0,
  "metadata": {
    "colab": {
      "provenance": [],
      "collapsed_sections": [
        "ddurfpiDU-N2",
        "Q7kTbZHBU63c",
        "sNsY9THEb2_W",
        "ykTWlRMWcCeb"
      ],
      "machine_shape": "hm",
      "authorship_tag": "ABX9TyMydoQImhXezJeT2AYN0gra"
    },
    "kernelspec": {
      "name": "python3",
      "display_name": "Python 3"
    },
    "language_info": {
      "name": "python"
    },
    "accelerator": "GPU",
    "gpuClass": "standard",
    "widgets": {
      "application/vnd.jupyter.widget-state+json": {
        "49cfb644a6f14da9b121d2d5755a5004": {
          "model_module": "@jupyter-widgets/controls",
          "model_name": "HBoxModel",
          "model_module_version": "1.5.0",
          "state": {
            "_dom_classes": [],
            "_model_module": "@jupyter-widgets/controls",
            "_model_module_version": "1.5.0",
            "_model_name": "HBoxModel",
            "_view_count": null,
            "_view_module": "@jupyter-widgets/controls",
            "_view_module_version": "1.5.0",
            "_view_name": "HBoxView",
            "box_style": "",
            "children": [
              "IPY_MODEL_29d217a35e1a4b8d878c712571263374",
              "IPY_MODEL_7eadceff42b74e7eb6108bbd105e281e",
              "IPY_MODEL_f0b56836889f4df586b0fdf6e6e6c53b"
            ],
            "layout": "IPY_MODEL_41fdf738232f499696418e87d440591b"
          }
        },
        "29d217a35e1a4b8d878c712571263374": {
          "model_module": "@jupyter-widgets/controls",
          "model_name": "HTMLModel",
          "model_module_version": "1.5.0",
          "state": {
            "_dom_classes": [],
            "_model_module": "@jupyter-widgets/controls",
            "_model_module_version": "1.5.0",
            "_model_name": "HTMLModel",
            "_view_count": null,
            "_view_module": "@jupyter-widgets/controls",
            "_view_module_version": "1.5.0",
            "_view_name": "HTMLView",
            "description": "",
            "description_tooltip": null,
            "layout": "IPY_MODEL_2ebf96f138e34998977a2c0a1f1071c8",
            "placeholder": "​",
            "style": "IPY_MODEL_594f483d81434daeb418dc0a31d3c307",
            "value": "Downloading (…)lve/main/config.json: 100%"
          }
        },
        "7eadceff42b74e7eb6108bbd105e281e": {
          "model_module": "@jupyter-widgets/controls",
          "model_name": "FloatProgressModel",
          "model_module_version": "1.5.0",
          "state": {
            "_dom_classes": [],
            "_model_module": "@jupyter-widgets/controls",
            "_model_module_version": "1.5.0",
            "_model_name": "FloatProgressModel",
            "_view_count": null,
            "_view_module": "@jupyter-widgets/controls",
            "_view_module_version": "1.5.0",
            "_view_name": "ProgressView",
            "bar_style": "success",
            "description": "",
            "description_tooltip": null,
            "layout": "IPY_MODEL_e122113cafa0453383080b6ff84387d8",
            "max": 747,
            "min": 0,
            "orientation": "horizontal",
            "style": "IPY_MODEL_0888a76d6ba840dc8c0c3c4a11bf3f6c",
            "value": 747
          }
        },
        "f0b56836889f4df586b0fdf6e6e6c53b": {
          "model_module": "@jupyter-widgets/controls",
          "model_name": "HTMLModel",
          "model_module_version": "1.5.0",
          "state": {
            "_dom_classes": [],
            "_model_module": "@jupyter-widgets/controls",
            "_model_module_version": "1.5.0",
            "_model_name": "HTMLModel",
            "_view_count": null,
            "_view_module": "@jupyter-widgets/controls",
            "_view_module_version": "1.5.0",
            "_view_name": "HTMLView",
            "description": "",
            "description_tooltip": null,
            "layout": "IPY_MODEL_545aa28c841d45b59922715842c535a9",
            "placeholder": "​",
            "style": "IPY_MODEL_e04f9636d2eb4274b18bb89c600f44aa",
            "value": " 747/747 [00:00&lt;00:00, 27.1kB/s]"
          }
        },
        "41fdf738232f499696418e87d440591b": {
          "model_module": "@jupyter-widgets/base",
          "model_name": "LayoutModel",
          "model_module_version": "1.2.0",
          "state": {
            "_model_module": "@jupyter-widgets/base",
            "_model_module_version": "1.2.0",
            "_model_name": "LayoutModel",
            "_view_count": null,
            "_view_module": "@jupyter-widgets/base",
            "_view_module_version": "1.2.0",
            "_view_name": "LayoutView",
            "align_content": null,
            "align_items": null,
            "align_self": null,
            "border": null,
            "bottom": null,
            "display": null,
            "flex": null,
            "flex_flow": null,
            "grid_area": null,
            "grid_auto_columns": null,
            "grid_auto_flow": null,
            "grid_auto_rows": null,
            "grid_column": null,
            "grid_gap": null,
            "grid_row": null,
            "grid_template_areas": null,
            "grid_template_columns": null,
            "grid_template_rows": null,
            "height": null,
            "justify_content": null,
            "justify_items": null,
            "left": null,
            "margin": null,
            "max_height": null,
            "max_width": null,
            "min_height": null,
            "min_width": null,
            "object_fit": null,
            "object_position": null,
            "order": null,
            "overflow": null,
            "overflow_x": null,
            "overflow_y": null,
            "padding": null,
            "right": null,
            "top": null,
            "visibility": null,
            "width": null
          }
        },
        "2ebf96f138e34998977a2c0a1f1071c8": {
          "model_module": "@jupyter-widgets/base",
          "model_name": "LayoutModel",
          "model_module_version": "1.2.0",
          "state": {
            "_model_module": "@jupyter-widgets/base",
            "_model_module_version": "1.2.0",
            "_model_name": "LayoutModel",
            "_view_count": null,
            "_view_module": "@jupyter-widgets/base",
            "_view_module_version": "1.2.0",
            "_view_name": "LayoutView",
            "align_content": null,
            "align_items": null,
            "align_self": null,
            "border": null,
            "bottom": null,
            "display": null,
            "flex": null,
            "flex_flow": null,
            "grid_area": null,
            "grid_auto_columns": null,
            "grid_auto_flow": null,
            "grid_auto_rows": null,
            "grid_column": null,
            "grid_gap": null,
            "grid_row": null,
            "grid_template_areas": null,
            "grid_template_columns": null,
            "grid_template_rows": null,
            "height": null,
            "justify_content": null,
            "justify_items": null,
            "left": null,
            "margin": null,
            "max_height": null,
            "max_width": null,
            "min_height": null,
            "min_width": null,
            "object_fit": null,
            "object_position": null,
            "order": null,
            "overflow": null,
            "overflow_x": null,
            "overflow_y": null,
            "padding": null,
            "right": null,
            "top": null,
            "visibility": null,
            "width": null
          }
        },
        "594f483d81434daeb418dc0a31d3c307": {
          "model_module": "@jupyter-widgets/controls",
          "model_name": "DescriptionStyleModel",
          "model_module_version": "1.5.0",
          "state": {
            "_model_module": "@jupyter-widgets/controls",
            "_model_module_version": "1.5.0",
            "_model_name": "DescriptionStyleModel",
            "_view_count": null,
            "_view_module": "@jupyter-widgets/base",
            "_view_module_version": "1.2.0",
            "_view_name": "StyleView",
            "description_width": ""
          }
        },
        "e122113cafa0453383080b6ff84387d8": {
          "model_module": "@jupyter-widgets/base",
          "model_name": "LayoutModel",
          "model_module_version": "1.2.0",
          "state": {
            "_model_module": "@jupyter-widgets/base",
            "_model_module_version": "1.2.0",
            "_model_name": "LayoutModel",
            "_view_count": null,
            "_view_module": "@jupyter-widgets/base",
            "_view_module_version": "1.2.0",
            "_view_name": "LayoutView",
            "align_content": null,
            "align_items": null,
            "align_self": null,
            "border": null,
            "bottom": null,
            "display": null,
            "flex": null,
            "flex_flow": null,
            "grid_area": null,
            "grid_auto_columns": null,
            "grid_auto_flow": null,
            "grid_auto_rows": null,
            "grid_column": null,
            "grid_gap": null,
            "grid_row": null,
            "grid_template_areas": null,
            "grid_template_columns": null,
            "grid_template_rows": null,
            "height": null,
            "justify_content": null,
            "justify_items": null,
            "left": null,
            "margin": null,
            "max_height": null,
            "max_width": null,
            "min_height": null,
            "min_width": null,
            "object_fit": null,
            "object_position": null,
            "order": null,
            "overflow": null,
            "overflow_x": null,
            "overflow_y": null,
            "padding": null,
            "right": null,
            "top": null,
            "visibility": null,
            "width": null
          }
        },
        "0888a76d6ba840dc8c0c3c4a11bf3f6c": {
          "model_module": "@jupyter-widgets/controls",
          "model_name": "ProgressStyleModel",
          "model_module_version": "1.5.0",
          "state": {
            "_model_module": "@jupyter-widgets/controls",
            "_model_module_version": "1.5.0",
            "_model_name": "ProgressStyleModel",
            "_view_count": null,
            "_view_module": "@jupyter-widgets/base",
            "_view_module_version": "1.2.0",
            "_view_name": "StyleView",
            "bar_color": null,
            "description_width": ""
          }
        },
        "545aa28c841d45b59922715842c535a9": {
          "model_module": "@jupyter-widgets/base",
          "model_name": "LayoutModel",
          "model_module_version": "1.2.0",
          "state": {
            "_model_module": "@jupyter-widgets/base",
            "_model_module_version": "1.2.0",
            "_model_name": "LayoutModel",
            "_view_count": null,
            "_view_module": "@jupyter-widgets/base",
            "_view_module_version": "1.2.0",
            "_view_name": "LayoutView",
            "align_content": null,
            "align_items": null,
            "align_self": null,
            "border": null,
            "bottom": null,
            "display": null,
            "flex": null,
            "flex_flow": null,
            "grid_area": null,
            "grid_auto_columns": null,
            "grid_auto_flow": null,
            "grid_auto_rows": null,
            "grid_column": null,
            "grid_gap": null,
            "grid_row": null,
            "grid_template_areas": null,
            "grid_template_columns": null,
            "grid_template_rows": null,
            "height": null,
            "justify_content": null,
            "justify_items": null,
            "left": null,
            "margin": null,
            "max_height": null,
            "max_width": null,
            "min_height": null,
            "min_width": null,
            "object_fit": null,
            "object_position": null,
            "order": null,
            "overflow": null,
            "overflow_x": null,
            "overflow_y": null,
            "padding": null,
            "right": null,
            "top": null,
            "visibility": null,
            "width": null
          }
        },
        "e04f9636d2eb4274b18bb89c600f44aa": {
          "model_module": "@jupyter-widgets/controls",
          "model_name": "DescriptionStyleModel",
          "model_module_version": "1.5.0",
          "state": {
            "_model_module": "@jupyter-widgets/controls",
            "_model_module_version": "1.5.0",
            "_model_name": "DescriptionStyleModel",
            "_view_count": null,
            "_view_module": "@jupyter-widgets/base",
            "_view_module_version": "1.2.0",
            "_view_name": "StyleView",
            "description_width": ""
          }
        },
        "2d0e7039e36446b4aef2b384745b1f43": {
          "model_module": "@jupyter-widgets/controls",
          "model_name": "HBoxModel",
          "model_module_version": "1.5.0",
          "state": {
            "_dom_classes": [],
            "_model_module": "@jupyter-widgets/controls",
            "_model_module_version": "1.5.0",
            "_model_name": "HBoxModel",
            "_view_count": null,
            "_view_module": "@jupyter-widgets/controls",
            "_view_module_version": "1.5.0",
            "_view_name": "HBoxView",
            "box_style": "",
            "children": [
              "IPY_MODEL_6639a72c6e484ede8b8ad03b5106562f",
              "IPY_MODEL_b0925f58af314afbb3c9396dd6f11ce8",
              "IPY_MODEL_9fd87e43dafb40a3a5459fe3481ccf0b"
            ],
            "layout": "IPY_MODEL_c5f070ea7ca44fb8a323eafdbfa876aa"
          }
        },
        "6639a72c6e484ede8b8ad03b5106562f": {
          "model_module": "@jupyter-widgets/controls",
          "model_name": "HTMLModel",
          "model_module_version": "1.5.0",
          "state": {
            "_dom_classes": [],
            "_model_module": "@jupyter-widgets/controls",
            "_model_module_version": "1.5.0",
            "_model_name": "HTMLModel",
            "_view_count": null,
            "_view_module": "@jupyter-widgets/controls",
            "_view_module_version": "1.5.0",
            "_view_name": "HTMLView",
            "description": "",
            "description_tooltip": null,
            "layout": "IPY_MODEL_b8f76e11314946bbb8e3d8334651ff68",
            "placeholder": "​",
            "style": "IPY_MODEL_7e4f08b1321449c79d2d470224ff7173",
            "value": "Downloading (…)olve/main/vocab.json: 100%"
          }
        },
        "b0925f58af314afbb3c9396dd6f11ce8": {
          "model_module": "@jupyter-widgets/controls",
          "model_name": "FloatProgressModel",
          "model_module_version": "1.5.0",
          "state": {
            "_dom_classes": [],
            "_model_module": "@jupyter-widgets/controls",
            "_model_module_version": "1.5.0",
            "_model_name": "FloatProgressModel",
            "_view_count": null,
            "_view_module": "@jupyter-widgets/controls",
            "_view_module_version": "1.5.0",
            "_view_name": "ProgressView",
            "bar_style": "success",
            "description": "",
            "description_tooltip": null,
            "layout": "IPY_MODEL_75c1f5ba16794c6997b4a051a53255e3",
            "max": 898822,
            "min": 0,
            "orientation": "horizontal",
            "style": "IPY_MODEL_3676ad8e88f549e5bf008285f2e87669",
            "value": 898822
          }
        },
        "9fd87e43dafb40a3a5459fe3481ccf0b": {
          "model_module": "@jupyter-widgets/controls",
          "model_name": "HTMLModel",
          "model_module_version": "1.5.0",
          "state": {
            "_dom_classes": [],
            "_model_module": "@jupyter-widgets/controls",
            "_model_module_version": "1.5.0",
            "_model_name": "HTMLModel",
            "_view_count": null,
            "_view_module": "@jupyter-widgets/controls",
            "_view_module_version": "1.5.0",
            "_view_name": "HTMLView",
            "description": "",
            "description_tooltip": null,
            "layout": "IPY_MODEL_f66c25574bc4472baa5dbff1e49cf578",
            "placeholder": "​",
            "style": "IPY_MODEL_ac16a02b400c4fc9a27f01c66337da72",
            "value": " 899k/899k [00:00&lt;00:00, 11.4MB/s]"
          }
        },
        "c5f070ea7ca44fb8a323eafdbfa876aa": {
          "model_module": "@jupyter-widgets/base",
          "model_name": "LayoutModel",
          "model_module_version": "1.2.0",
          "state": {
            "_model_module": "@jupyter-widgets/base",
            "_model_module_version": "1.2.0",
            "_model_name": "LayoutModel",
            "_view_count": null,
            "_view_module": "@jupyter-widgets/base",
            "_view_module_version": "1.2.0",
            "_view_name": "LayoutView",
            "align_content": null,
            "align_items": null,
            "align_self": null,
            "border": null,
            "bottom": null,
            "display": null,
            "flex": null,
            "flex_flow": null,
            "grid_area": null,
            "grid_auto_columns": null,
            "grid_auto_flow": null,
            "grid_auto_rows": null,
            "grid_column": null,
            "grid_gap": null,
            "grid_row": null,
            "grid_template_areas": null,
            "grid_template_columns": null,
            "grid_template_rows": null,
            "height": null,
            "justify_content": null,
            "justify_items": null,
            "left": null,
            "margin": null,
            "max_height": null,
            "max_width": null,
            "min_height": null,
            "min_width": null,
            "object_fit": null,
            "object_position": null,
            "order": null,
            "overflow": null,
            "overflow_x": null,
            "overflow_y": null,
            "padding": null,
            "right": null,
            "top": null,
            "visibility": null,
            "width": null
          }
        },
        "b8f76e11314946bbb8e3d8334651ff68": {
          "model_module": "@jupyter-widgets/base",
          "model_name": "LayoutModel",
          "model_module_version": "1.2.0",
          "state": {
            "_model_module": "@jupyter-widgets/base",
            "_model_module_version": "1.2.0",
            "_model_name": "LayoutModel",
            "_view_count": null,
            "_view_module": "@jupyter-widgets/base",
            "_view_module_version": "1.2.0",
            "_view_name": "LayoutView",
            "align_content": null,
            "align_items": null,
            "align_self": null,
            "border": null,
            "bottom": null,
            "display": null,
            "flex": null,
            "flex_flow": null,
            "grid_area": null,
            "grid_auto_columns": null,
            "grid_auto_flow": null,
            "grid_auto_rows": null,
            "grid_column": null,
            "grid_gap": null,
            "grid_row": null,
            "grid_template_areas": null,
            "grid_template_columns": null,
            "grid_template_rows": null,
            "height": null,
            "justify_content": null,
            "justify_items": null,
            "left": null,
            "margin": null,
            "max_height": null,
            "max_width": null,
            "min_height": null,
            "min_width": null,
            "object_fit": null,
            "object_position": null,
            "order": null,
            "overflow": null,
            "overflow_x": null,
            "overflow_y": null,
            "padding": null,
            "right": null,
            "top": null,
            "visibility": null,
            "width": null
          }
        },
        "7e4f08b1321449c79d2d470224ff7173": {
          "model_module": "@jupyter-widgets/controls",
          "model_name": "DescriptionStyleModel",
          "model_module_version": "1.5.0",
          "state": {
            "_model_module": "@jupyter-widgets/controls",
            "_model_module_version": "1.5.0",
            "_model_name": "DescriptionStyleModel",
            "_view_count": null,
            "_view_module": "@jupyter-widgets/base",
            "_view_module_version": "1.2.0",
            "_view_name": "StyleView",
            "description_width": ""
          }
        },
        "75c1f5ba16794c6997b4a051a53255e3": {
          "model_module": "@jupyter-widgets/base",
          "model_name": "LayoutModel",
          "model_module_version": "1.2.0",
          "state": {
            "_model_module": "@jupyter-widgets/base",
            "_model_module_version": "1.2.0",
            "_model_name": "LayoutModel",
            "_view_count": null,
            "_view_module": "@jupyter-widgets/base",
            "_view_module_version": "1.2.0",
            "_view_name": "LayoutView",
            "align_content": null,
            "align_items": null,
            "align_self": null,
            "border": null,
            "bottom": null,
            "display": null,
            "flex": null,
            "flex_flow": null,
            "grid_area": null,
            "grid_auto_columns": null,
            "grid_auto_flow": null,
            "grid_auto_rows": null,
            "grid_column": null,
            "grid_gap": null,
            "grid_row": null,
            "grid_template_areas": null,
            "grid_template_columns": null,
            "grid_template_rows": null,
            "height": null,
            "justify_content": null,
            "justify_items": null,
            "left": null,
            "margin": null,
            "max_height": null,
            "max_width": null,
            "min_height": null,
            "min_width": null,
            "object_fit": null,
            "object_position": null,
            "order": null,
            "overflow": null,
            "overflow_x": null,
            "overflow_y": null,
            "padding": null,
            "right": null,
            "top": null,
            "visibility": null,
            "width": null
          }
        },
        "3676ad8e88f549e5bf008285f2e87669": {
          "model_module": "@jupyter-widgets/controls",
          "model_name": "ProgressStyleModel",
          "model_module_version": "1.5.0",
          "state": {
            "_model_module": "@jupyter-widgets/controls",
            "_model_module_version": "1.5.0",
            "_model_name": "ProgressStyleModel",
            "_view_count": null,
            "_view_module": "@jupyter-widgets/base",
            "_view_module_version": "1.2.0",
            "_view_name": "StyleView",
            "bar_color": null,
            "description_width": ""
          }
        },
        "f66c25574bc4472baa5dbff1e49cf578": {
          "model_module": "@jupyter-widgets/base",
          "model_name": "LayoutModel",
          "model_module_version": "1.2.0",
          "state": {
            "_model_module": "@jupyter-widgets/base",
            "_model_module_version": "1.2.0",
            "_model_name": "LayoutModel",
            "_view_count": null,
            "_view_module": "@jupyter-widgets/base",
            "_view_module_version": "1.2.0",
            "_view_name": "LayoutView",
            "align_content": null,
            "align_items": null,
            "align_self": null,
            "border": null,
            "bottom": null,
            "display": null,
            "flex": null,
            "flex_flow": null,
            "grid_area": null,
            "grid_auto_columns": null,
            "grid_auto_flow": null,
            "grid_auto_rows": null,
            "grid_column": null,
            "grid_gap": null,
            "grid_row": null,
            "grid_template_areas": null,
            "grid_template_columns": null,
            "grid_template_rows": null,
            "height": null,
            "justify_content": null,
            "justify_items": null,
            "left": null,
            "margin": null,
            "max_height": null,
            "max_width": null,
            "min_height": null,
            "min_width": null,
            "object_fit": null,
            "object_position": null,
            "order": null,
            "overflow": null,
            "overflow_x": null,
            "overflow_y": null,
            "padding": null,
            "right": null,
            "top": null,
            "visibility": null,
            "width": null
          }
        },
        "ac16a02b400c4fc9a27f01c66337da72": {
          "model_module": "@jupyter-widgets/controls",
          "model_name": "DescriptionStyleModel",
          "model_module_version": "1.5.0",
          "state": {
            "_model_module": "@jupyter-widgets/controls",
            "_model_module_version": "1.5.0",
            "_model_name": "DescriptionStyleModel",
            "_view_count": null,
            "_view_module": "@jupyter-widgets/base",
            "_view_module_version": "1.2.0",
            "_view_name": "StyleView",
            "description_width": ""
          }
        },
        "8e265989cccd4e74ab558cd277324d3d": {
          "model_module": "@jupyter-widgets/controls",
          "model_name": "HBoxModel",
          "model_module_version": "1.5.0",
          "state": {
            "_dom_classes": [],
            "_model_module": "@jupyter-widgets/controls",
            "_model_module_version": "1.5.0",
            "_model_name": "HBoxModel",
            "_view_count": null,
            "_view_module": "@jupyter-widgets/controls",
            "_view_module_version": "1.5.0",
            "_view_name": "HBoxView",
            "box_style": "",
            "children": [
              "IPY_MODEL_f4941658c4f2498b875b6178456b9843",
              "IPY_MODEL_bebd68ec31dd4ef0af2a739455b39cf3",
              "IPY_MODEL_f66cac279c014731b397b71ed5ba6bc5"
            ],
            "layout": "IPY_MODEL_6b8143af626c432296f925840935104a"
          }
        },
        "f4941658c4f2498b875b6178456b9843": {
          "model_module": "@jupyter-widgets/controls",
          "model_name": "HTMLModel",
          "model_module_version": "1.5.0",
          "state": {
            "_dom_classes": [],
            "_model_module": "@jupyter-widgets/controls",
            "_model_module_version": "1.5.0",
            "_model_name": "HTMLModel",
            "_view_count": null,
            "_view_module": "@jupyter-widgets/controls",
            "_view_module_version": "1.5.0",
            "_view_name": "HTMLView",
            "description": "",
            "description_tooltip": null,
            "layout": "IPY_MODEL_4ead51e373e44b6b982e3887b3e93feb",
            "placeholder": "​",
            "style": "IPY_MODEL_62657665336a432894c893f468581890",
            "value": "Downloading (…)olve/main/merges.txt: 100%"
          }
        },
        "bebd68ec31dd4ef0af2a739455b39cf3": {
          "model_module": "@jupyter-widgets/controls",
          "model_name": "FloatProgressModel",
          "model_module_version": "1.5.0",
          "state": {
            "_dom_classes": [],
            "_model_module": "@jupyter-widgets/controls",
            "_model_module_version": "1.5.0",
            "_model_name": "FloatProgressModel",
            "_view_count": null,
            "_view_module": "@jupyter-widgets/controls",
            "_view_module_version": "1.5.0",
            "_view_name": "ProgressView",
            "bar_style": "success",
            "description": "",
            "description_tooltip": null,
            "layout": "IPY_MODEL_61054c14aa564324922191c09205d22f",
            "max": 456318,
            "min": 0,
            "orientation": "horizontal",
            "style": "IPY_MODEL_269df5801c3d4eda9949327f4a95725a",
            "value": 456318
          }
        },
        "f66cac279c014731b397b71ed5ba6bc5": {
          "model_module": "@jupyter-widgets/controls",
          "model_name": "HTMLModel",
          "model_module_version": "1.5.0",
          "state": {
            "_dom_classes": [],
            "_model_module": "@jupyter-widgets/controls",
            "_model_module_version": "1.5.0",
            "_model_name": "HTMLModel",
            "_view_count": null,
            "_view_module": "@jupyter-widgets/controls",
            "_view_module_version": "1.5.0",
            "_view_name": "HTMLView",
            "description": "",
            "description_tooltip": null,
            "layout": "IPY_MODEL_b60fe706bcca4b9c9364182acb1c1fa2",
            "placeholder": "​",
            "style": "IPY_MODEL_98532698d4734bcaa2dca9b2101ccef5",
            "value": " 456k/456k [00:00&lt;00:00, 6.71MB/s]"
          }
        },
        "6b8143af626c432296f925840935104a": {
          "model_module": "@jupyter-widgets/base",
          "model_name": "LayoutModel",
          "model_module_version": "1.2.0",
          "state": {
            "_model_module": "@jupyter-widgets/base",
            "_model_module_version": "1.2.0",
            "_model_name": "LayoutModel",
            "_view_count": null,
            "_view_module": "@jupyter-widgets/base",
            "_view_module_version": "1.2.0",
            "_view_name": "LayoutView",
            "align_content": null,
            "align_items": null,
            "align_self": null,
            "border": null,
            "bottom": null,
            "display": null,
            "flex": null,
            "flex_flow": null,
            "grid_area": null,
            "grid_auto_columns": null,
            "grid_auto_flow": null,
            "grid_auto_rows": null,
            "grid_column": null,
            "grid_gap": null,
            "grid_row": null,
            "grid_template_areas": null,
            "grid_template_columns": null,
            "grid_template_rows": null,
            "height": null,
            "justify_content": null,
            "justify_items": null,
            "left": null,
            "margin": null,
            "max_height": null,
            "max_width": null,
            "min_height": null,
            "min_width": null,
            "object_fit": null,
            "object_position": null,
            "order": null,
            "overflow": null,
            "overflow_x": null,
            "overflow_y": null,
            "padding": null,
            "right": null,
            "top": null,
            "visibility": null,
            "width": null
          }
        },
        "4ead51e373e44b6b982e3887b3e93feb": {
          "model_module": "@jupyter-widgets/base",
          "model_name": "LayoutModel",
          "model_module_version": "1.2.0",
          "state": {
            "_model_module": "@jupyter-widgets/base",
            "_model_module_version": "1.2.0",
            "_model_name": "LayoutModel",
            "_view_count": null,
            "_view_module": "@jupyter-widgets/base",
            "_view_module_version": "1.2.0",
            "_view_name": "LayoutView",
            "align_content": null,
            "align_items": null,
            "align_self": null,
            "border": null,
            "bottom": null,
            "display": null,
            "flex": null,
            "flex_flow": null,
            "grid_area": null,
            "grid_auto_columns": null,
            "grid_auto_flow": null,
            "grid_auto_rows": null,
            "grid_column": null,
            "grid_gap": null,
            "grid_row": null,
            "grid_template_areas": null,
            "grid_template_columns": null,
            "grid_template_rows": null,
            "height": null,
            "justify_content": null,
            "justify_items": null,
            "left": null,
            "margin": null,
            "max_height": null,
            "max_width": null,
            "min_height": null,
            "min_width": null,
            "object_fit": null,
            "object_position": null,
            "order": null,
            "overflow": null,
            "overflow_x": null,
            "overflow_y": null,
            "padding": null,
            "right": null,
            "top": null,
            "visibility": null,
            "width": null
          }
        },
        "62657665336a432894c893f468581890": {
          "model_module": "@jupyter-widgets/controls",
          "model_name": "DescriptionStyleModel",
          "model_module_version": "1.5.0",
          "state": {
            "_model_module": "@jupyter-widgets/controls",
            "_model_module_version": "1.5.0",
            "_model_name": "DescriptionStyleModel",
            "_view_count": null,
            "_view_module": "@jupyter-widgets/base",
            "_view_module_version": "1.2.0",
            "_view_name": "StyleView",
            "description_width": ""
          }
        },
        "61054c14aa564324922191c09205d22f": {
          "model_module": "@jupyter-widgets/base",
          "model_name": "LayoutModel",
          "model_module_version": "1.2.0",
          "state": {
            "_model_module": "@jupyter-widgets/base",
            "_model_module_version": "1.2.0",
            "_model_name": "LayoutModel",
            "_view_count": null,
            "_view_module": "@jupyter-widgets/base",
            "_view_module_version": "1.2.0",
            "_view_name": "LayoutView",
            "align_content": null,
            "align_items": null,
            "align_self": null,
            "border": null,
            "bottom": null,
            "display": null,
            "flex": null,
            "flex_flow": null,
            "grid_area": null,
            "grid_auto_columns": null,
            "grid_auto_flow": null,
            "grid_auto_rows": null,
            "grid_column": null,
            "grid_gap": null,
            "grid_row": null,
            "grid_template_areas": null,
            "grid_template_columns": null,
            "grid_template_rows": null,
            "height": null,
            "justify_content": null,
            "justify_items": null,
            "left": null,
            "margin": null,
            "max_height": null,
            "max_width": null,
            "min_height": null,
            "min_width": null,
            "object_fit": null,
            "object_position": null,
            "order": null,
            "overflow": null,
            "overflow_x": null,
            "overflow_y": null,
            "padding": null,
            "right": null,
            "top": null,
            "visibility": null,
            "width": null
          }
        },
        "269df5801c3d4eda9949327f4a95725a": {
          "model_module": "@jupyter-widgets/controls",
          "model_name": "ProgressStyleModel",
          "model_module_version": "1.5.0",
          "state": {
            "_model_module": "@jupyter-widgets/controls",
            "_model_module_version": "1.5.0",
            "_model_name": "ProgressStyleModel",
            "_view_count": null,
            "_view_module": "@jupyter-widgets/base",
            "_view_module_version": "1.2.0",
            "_view_name": "StyleView",
            "bar_color": null,
            "description_width": ""
          }
        },
        "b60fe706bcca4b9c9364182acb1c1fa2": {
          "model_module": "@jupyter-widgets/base",
          "model_name": "LayoutModel",
          "model_module_version": "1.2.0",
          "state": {
            "_model_module": "@jupyter-widgets/base",
            "_model_module_version": "1.2.0",
            "_model_name": "LayoutModel",
            "_view_count": null,
            "_view_module": "@jupyter-widgets/base",
            "_view_module_version": "1.2.0",
            "_view_name": "LayoutView",
            "align_content": null,
            "align_items": null,
            "align_self": null,
            "border": null,
            "bottom": null,
            "display": null,
            "flex": null,
            "flex_flow": null,
            "grid_area": null,
            "grid_auto_columns": null,
            "grid_auto_flow": null,
            "grid_auto_rows": null,
            "grid_column": null,
            "grid_gap": null,
            "grid_row": null,
            "grid_template_areas": null,
            "grid_template_columns": null,
            "grid_template_rows": null,
            "height": null,
            "justify_content": null,
            "justify_items": null,
            "left": null,
            "margin": null,
            "max_height": null,
            "max_width": null,
            "min_height": null,
            "min_width": null,
            "object_fit": null,
            "object_position": null,
            "order": null,
            "overflow": null,
            "overflow_x": null,
            "overflow_y": null,
            "padding": null,
            "right": null,
            "top": null,
            "visibility": null,
            "width": null
          }
        },
        "98532698d4734bcaa2dca9b2101ccef5": {
          "model_module": "@jupyter-widgets/controls",
          "model_name": "DescriptionStyleModel",
          "model_module_version": "1.5.0",
          "state": {
            "_model_module": "@jupyter-widgets/controls",
            "_model_module_version": "1.5.0",
            "_model_name": "DescriptionStyleModel",
            "_view_count": null,
            "_view_module": "@jupyter-widgets/base",
            "_view_module_version": "1.2.0",
            "_view_name": "StyleView",
            "description_width": ""
          }
        },
        "5996783cb2e24a0480ad6bf99f8b637c": {
          "model_module": "@jupyter-widgets/controls",
          "model_name": "HBoxModel",
          "model_module_version": "1.5.0",
          "state": {
            "_dom_classes": [],
            "_model_module": "@jupyter-widgets/controls",
            "_model_module_version": "1.5.0",
            "_model_name": "HBoxModel",
            "_view_count": null,
            "_view_module": "@jupyter-widgets/controls",
            "_view_module_version": "1.5.0",
            "_view_name": "HBoxView",
            "box_style": "",
            "children": [
              "IPY_MODEL_ce808e823e4f40ae9a1ce54d56d3d3f1",
              "IPY_MODEL_1bd4d07bc17842bbafb02f45346c5d8e",
              "IPY_MODEL_104eeaa0d6b04505bea90c8447149d9c"
            ],
            "layout": "IPY_MODEL_15b576b0871742d4940e515f976926e2"
          }
        },
        "ce808e823e4f40ae9a1ce54d56d3d3f1": {
          "model_module": "@jupyter-widgets/controls",
          "model_name": "HTMLModel",
          "model_module_version": "1.5.0",
          "state": {
            "_dom_classes": [],
            "_model_module": "@jupyter-widgets/controls",
            "_model_module_version": "1.5.0",
            "_model_name": "HTMLModel",
            "_view_count": null,
            "_view_module": "@jupyter-widgets/controls",
            "_view_module_version": "1.5.0",
            "_view_name": "HTMLView",
            "description": "",
            "description_tooltip": null,
            "layout": "IPY_MODEL_a224d548b2944720b24fbbe5762d9a55",
            "placeholder": "​",
            "style": "IPY_MODEL_24847816bf684b5dadc28cda0c52a018",
            "value": "Downloading (…)cial_tokens_map.json: 100%"
          }
        },
        "1bd4d07bc17842bbafb02f45346c5d8e": {
          "model_module": "@jupyter-widgets/controls",
          "model_name": "FloatProgressModel",
          "model_module_version": "1.5.0",
          "state": {
            "_dom_classes": [],
            "_model_module": "@jupyter-widgets/controls",
            "_model_module_version": "1.5.0",
            "_model_name": "FloatProgressModel",
            "_view_count": null,
            "_view_module": "@jupyter-widgets/controls",
            "_view_module_version": "1.5.0",
            "_view_name": "ProgressView",
            "bar_style": "success",
            "description": "",
            "description_tooltip": null,
            "layout": "IPY_MODEL_7095337333e348e7b0288c914e1ee95a",
            "max": 150,
            "min": 0,
            "orientation": "horizontal",
            "style": "IPY_MODEL_e683dc5a45384b42b2efc67090341b19",
            "value": 150
          }
        },
        "104eeaa0d6b04505bea90c8447149d9c": {
          "model_module": "@jupyter-widgets/controls",
          "model_name": "HTMLModel",
          "model_module_version": "1.5.0",
          "state": {
            "_dom_classes": [],
            "_model_module": "@jupyter-widgets/controls",
            "_model_module_version": "1.5.0",
            "_model_name": "HTMLModel",
            "_view_count": null,
            "_view_module": "@jupyter-widgets/controls",
            "_view_module_version": "1.5.0",
            "_view_name": "HTMLView",
            "description": "",
            "description_tooltip": null,
            "layout": "IPY_MODEL_4f80e6b1892e4b9f9529c0ef68435f75",
            "placeholder": "​",
            "style": "IPY_MODEL_057df90617c0451e9fdc077b8b9109d2",
            "value": " 150/150 [00:00&lt;00:00, 7.76kB/s]"
          }
        },
        "15b576b0871742d4940e515f976926e2": {
          "model_module": "@jupyter-widgets/base",
          "model_name": "LayoutModel",
          "model_module_version": "1.2.0",
          "state": {
            "_model_module": "@jupyter-widgets/base",
            "_model_module_version": "1.2.0",
            "_model_name": "LayoutModel",
            "_view_count": null,
            "_view_module": "@jupyter-widgets/base",
            "_view_module_version": "1.2.0",
            "_view_name": "LayoutView",
            "align_content": null,
            "align_items": null,
            "align_self": null,
            "border": null,
            "bottom": null,
            "display": null,
            "flex": null,
            "flex_flow": null,
            "grid_area": null,
            "grid_auto_columns": null,
            "grid_auto_flow": null,
            "grid_auto_rows": null,
            "grid_column": null,
            "grid_gap": null,
            "grid_row": null,
            "grid_template_areas": null,
            "grid_template_columns": null,
            "grid_template_rows": null,
            "height": null,
            "justify_content": null,
            "justify_items": null,
            "left": null,
            "margin": null,
            "max_height": null,
            "max_width": null,
            "min_height": null,
            "min_width": null,
            "object_fit": null,
            "object_position": null,
            "order": null,
            "overflow": null,
            "overflow_x": null,
            "overflow_y": null,
            "padding": null,
            "right": null,
            "top": null,
            "visibility": null,
            "width": null
          }
        },
        "a224d548b2944720b24fbbe5762d9a55": {
          "model_module": "@jupyter-widgets/base",
          "model_name": "LayoutModel",
          "model_module_version": "1.2.0",
          "state": {
            "_model_module": "@jupyter-widgets/base",
            "_model_module_version": "1.2.0",
            "_model_name": "LayoutModel",
            "_view_count": null,
            "_view_module": "@jupyter-widgets/base",
            "_view_module_version": "1.2.0",
            "_view_name": "LayoutView",
            "align_content": null,
            "align_items": null,
            "align_self": null,
            "border": null,
            "bottom": null,
            "display": null,
            "flex": null,
            "flex_flow": null,
            "grid_area": null,
            "grid_auto_columns": null,
            "grid_auto_flow": null,
            "grid_auto_rows": null,
            "grid_column": null,
            "grid_gap": null,
            "grid_row": null,
            "grid_template_areas": null,
            "grid_template_columns": null,
            "grid_template_rows": null,
            "height": null,
            "justify_content": null,
            "justify_items": null,
            "left": null,
            "margin": null,
            "max_height": null,
            "max_width": null,
            "min_height": null,
            "min_width": null,
            "object_fit": null,
            "object_position": null,
            "order": null,
            "overflow": null,
            "overflow_x": null,
            "overflow_y": null,
            "padding": null,
            "right": null,
            "top": null,
            "visibility": null,
            "width": null
          }
        },
        "24847816bf684b5dadc28cda0c52a018": {
          "model_module": "@jupyter-widgets/controls",
          "model_name": "DescriptionStyleModel",
          "model_module_version": "1.5.0",
          "state": {
            "_model_module": "@jupyter-widgets/controls",
            "_model_module_version": "1.5.0",
            "_model_name": "DescriptionStyleModel",
            "_view_count": null,
            "_view_module": "@jupyter-widgets/base",
            "_view_module_version": "1.2.0",
            "_view_name": "StyleView",
            "description_width": ""
          }
        },
        "7095337333e348e7b0288c914e1ee95a": {
          "model_module": "@jupyter-widgets/base",
          "model_name": "LayoutModel",
          "model_module_version": "1.2.0",
          "state": {
            "_model_module": "@jupyter-widgets/base",
            "_model_module_version": "1.2.0",
            "_model_name": "LayoutModel",
            "_view_count": null,
            "_view_module": "@jupyter-widgets/base",
            "_view_module_version": "1.2.0",
            "_view_name": "LayoutView",
            "align_content": null,
            "align_items": null,
            "align_self": null,
            "border": null,
            "bottom": null,
            "display": null,
            "flex": null,
            "flex_flow": null,
            "grid_area": null,
            "grid_auto_columns": null,
            "grid_auto_flow": null,
            "grid_auto_rows": null,
            "grid_column": null,
            "grid_gap": null,
            "grid_row": null,
            "grid_template_areas": null,
            "grid_template_columns": null,
            "grid_template_rows": null,
            "height": null,
            "justify_content": null,
            "justify_items": null,
            "left": null,
            "margin": null,
            "max_height": null,
            "max_width": null,
            "min_height": null,
            "min_width": null,
            "object_fit": null,
            "object_position": null,
            "order": null,
            "overflow": null,
            "overflow_x": null,
            "overflow_y": null,
            "padding": null,
            "right": null,
            "top": null,
            "visibility": null,
            "width": null
          }
        },
        "e683dc5a45384b42b2efc67090341b19": {
          "model_module": "@jupyter-widgets/controls",
          "model_name": "ProgressStyleModel",
          "model_module_version": "1.5.0",
          "state": {
            "_model_module": "@jupyter-widgets/controls",
            "_model_module_version": "1.5.0",
            "_model_name": "ProgressStyleModel",
            "_view_count": null,
            "_view_module": "@jupyter-widgets/base",
            "_view_module_version": "1.2.0",
            "_view_name": "StyleView",
            "bar_color": null,
            "description_width": ""
          }
        },
        "4f80e6b1892e4b9f9529c0ef68435f75": {
          "model_module": "@jupyter-widgets/base",
          "model_name": "LayoutModel",
          "model_module_version": "1.2.0",
          "state": {
            "_model_module": "@jupyter-widgets/base",
            "_model_module_version": "1.2.0",
            "_model_name": "LayoutModel",
            "_view_count": null,
            "_view_module": "@jupyter-widgets/base",
            "_view_module_version": "1.2.0",
            "_view_name": "LayoutView",
            "align_content": null,
            "align_items": null,
            "align_self": null,
            "border": null,
            "bottom": null,
            "display": null,
            "flex": null,
            "flex_flow": null,
            "grid_area": null,
            "grid_auto_columns": null,
            "grid_auto_flow": null,
            "grid_auto_rows": null,
            "grid_column": null,
            "grid_gap": null,
            "grid_row": null,
            "grid_template_areas": null,
            "grid_template_columns": null,
            "grid_template_rows": null,
            "height": null,
            "justify_content": null,
            "justify_items": null,
            "left": null,
            "margin": null,
            "max_height": null,
            "max_width": null,
            "min_height": null,
            "min_width": null,
            "object_fit": null,
            "object_position": null,
            "order": null,
            "overflow": null,
            "overflow_x": null,
            "overflow_y": null,
            "padding": null,
            "right": null,
            "top": null,
            "visibility": null,
            "width": null
          }
        },
        "057df90617c0451e9fdc077b8b9109d2": {
          "model_module": "@jupyter-widgets/controls",
          "model_name": "DescriptionStyleModel",
          "model_module_version": "1.5.0",
          "state": {
            "_model_module": "@jupyter-widgets/controls",
            "_model_module_version": "1.5.0",
            "_model_name": "DescriptionStyleModel",
            "_view_count": null,
            "_view_module": "@jupyter-widgets/base",
            "_view_module_version": "1.2.0",
            "_view_name": "StyleView",
            "description_width": ""
          }
        },
        "4890639ea9804ac9bfa59d3bd49c6bd7": {
          "model_module": "@jupyter-widgets/controls",
          "model_name": "HBoxModel",
          "model_module_version": "1.5.0",
          "state": {
            "_dom_classes": [],
            "_model_module": "@jupyter-widgets/controls",
            "_model_module_version": "1.5.0",
            "_model_name": "HBoxModel",
            "_view_count": null,
            "_view_module": "@jupyter-widgets/controls",
            "_view_module_version": "1.5.0",
            "_view_name": "HBoxView",
            "box_style": "",
            "children": [
              "IPY_MODEL_f4f003e6d35042c89b190d0ca8185b11",
              "IPY_MODEL_9f0d45b7466f4409aa7ad744c63b562f",
              "IPY_MODEL_241d639bb36e4c3ba5ea2ba5328a2160"
            ],
            "layout": "IPY_MODEL_b9f6bc9fa84a4c889f4a7f95438989d6"
          }
        },
        "f4f003e6d35042c89b190d0ca8185b11": {
          "model_module": "@jupyter-widgets/controls",
          "model_name": "HTMLModel",
          "model_module_version": "1.5.0",
          "state": {
            "_dom_classes": [],
            "_model_module": "@jupyter-widgets/controls",
            "_model_module_version": "1.5.0",
            "_model_name": "HTMLModel",
            "_view_count": null,
            "_view_module": "@jupyter-widgets/controls",
            "_view_module_version": "1.5.0",
            "_view_name": "HTMLView",
            "description": "",
            "description_tooltip": null,
            "layout": "IPY_MODEL_f0fa7784b1994fa4ba6cb49647fb0122",
            "placeholder": "​",
            "style": "IPY_MODEL_c61e48631b804bd3a020fb1d81cd1cf2",
            "value": "Downloading pytorch_model.bin: 100%"
          }
        },
        "9f0d45b7466f4409aa7ad744c63b562f": {
          "model_module": "@jupyter-widgets/controls",
          "model_name": "FloatProgressModel",
          "model_module_version": "1.5.0",
          "state": {
            "_dom_classes": [],
            "_model_module": "@jupyter-widgets/controls",
            "_model_module_version": "1.5.0",
            "_model_name": "FloatProgressModel",
            "_view_count": null,
            "_view_module": "@jupyter-widgets/controls",
            "_view_module_version": "1.5.0",
            "_view_name": "ProgressView",
            "bar_style": "success",
            "description": "",
            "description_tooltip": null,
            "layout": "IPY_MODEL_e104e14bf78648eeaa689290960541f8",
            "max": 498679497,
            "min": 0,
            "orientation": "horizontal",
            "style": "IPY_MODEL_dbeaee5a8f514d49940bf7142209a374",
            "value": 498679497
          }
        },
        "241d639bb36e4c3ba5ea2ba5328a2160": {
          "model_module": "@jupyter-widgets/controls",
          "model_name": "HTMLModel",
          "model_module_version": "1.5.0",
          "state": {
            "_dom_classes": [],
            "_model_module": "@jupyter-widgets/controls",
            "_model_module_version": "1.5.0",
            "_model_name": "HTMLModel",
            "_view_count": null,
            "_view_module": "@jupyter-widgets/controls",
            "_view_module_version": "1.5.0",
            "_view_name": "HTMLView",
            "description": "",
            "description_tooltip": null,
            "layout": "IPY_MODEL_dc611ffa36e342dd93e98f71e340a406",
            "placeholder": "​",
            "style": "IPY_MODEL_3ff78aa7cee74b7d86cb285da80d0701",
            "value": " 499M/499M [00:04&lt;00:00, 96.9MB/s]"
          }
        },
        "b9f6bc9fa84a4c889f4a7f95438989d6": {
          "model_module": "@jupyter-widgets/base",
          "model_name": "LayoutModel",
          "model_module_version": "1.2.0",
          "state": {
            "_model_module": "@jupyter-widgets/base",
            "_model_module_version": "1.2.0",
            "_model_name": "LayoutModel",
            "_view_count": null,
            "_view_module": "@jupyter-widgets/base",
            "_view_module_version": "1.2.0",
            "_view_name": "LayoutView",
            "align_content": null,
            "align_items": null,
            "align_self": null,
            "border": null,
            "bottom": null,
            "display": null,
            "flex": null,
            "flex_flow": null,
            "grid_area": null,
            "grid_auto_columns": null,
            "grid_auto_flow": null,
            "grid_auto_rows": null,
            "grid_column": null,
            "grid_gap": null,
            "grid_row": null,
            "grid_template_areas": null,
            "grid_template_columns": null,
            "grid_template_rows": null,
            "height": null,
            "justify_content": null,
            "justify_items": null,
            "left": null,
            "margin": null,
            "max_height": null,
            "max_width": null,
            "min_height": null,
            "min_width": null,
            "object_fit": null,
            "object_position": null,
            "order": null,
            "overflow": null,
            "overflow_x": null,
            "overflow_y": null,
            "padding": null,
            "right": null,
            "top": null,
            "visibility": null,
            "width": null
          }
        },
        "f0fa7784b1994fa4ba6cb49647fb0122": {
          "model_module": "@jupyter-widgets/base",
          "model_name": "LayoutModel",
          "model_module_version": "1.2.0",
          "state": {
            "_model_module": "@jupyter-widgets/base",
            "_model_module_version": "1.2.0",
            "_model_name": "LayoutModel",
            "_view_count": null,
            "_view_module": "@jupyter-widgets/base",
            "_view_module_version": "1.2.0",
            "_view_name": "LayoutView",
            "align_content": null,
            "align_items": null,
            "align_self": null,
            "border": null,
            "bottom": null,
            "display": null,
            "flex": null,
            "flex_flow": null,
            "grid_area": null,
            "grid_auto_columns": null,
            "grid_auto_flow": null,
            "grid_auto_rows": null,
            "grid_column": null,
            "grid_gap": null,
            "grid_row": null,
            "grid_template_areas": null,
            "grid_template_columns": null,
            "grid_template_rows": null,
            "height": null,
            "justify_content": null,
            "justify_items": null,
            "left": null,
            "margin": null,
            "max_height": null,
            "max_width": null,
            "min_height": null,
            "min_width": null,
            "object_fit": null,
            "object_position": null,
            "order": null,
            "overflow": null,
            "overflow_x": null,
            "overflow_y": null,
            "padding": null,
            "right": null,
            "top": null,
            "visibility": null,
            "width": null
          }
        },
        "c61e48631b804bd3a020fb1d81cd1cf2": {
          "model_module": "@jupyter-widgets/controls",
          "model_name": "DescriptionStyleModel",
          "model_module_version": "1.5.0",
          "state": {
            "_model_module": "@jupyter-widgets/controls",
            "_model_module_version": "1.5.0",
            "_model_name": "DescriptionStyleModel",
            "_view_count": null,
            "_view_module": "@jupyter-widgets/base",
            "_view_module_version": "1.2.0",
            "_view_name": "StyleView",
            "description_width": ""
          }
        },
        "e104e14bf78648eeaa689290960541f8": {
          "model_module": "@jupyter-widgets/base",
          "model_name": "LayoutModel",
          "model_module_version": "1.2.0",
          "state": {
            "_model_module": "@jupyter-widgets/base",
            "_model_module_version": "1.2.0",
            "_model_name": "LayoutModel",
            "_view_count": null,
            "_view_module": "@jupyter-widgets/base",
            "_view_module_version": "1.2.0",
            "_view_name": "LayoutView",
            "align_content": null,
            "align_items": null,
            "align_self": null,
            "border": null,
            "bottom": null,
            "display": null,
            "flex": null,
            "flex_flow": null,
            "grid_area": null,
            "grid_auto_columns": null,
            "grid_auto_flow": null,
            "grid_auto_rows": null,
            "grid_column": null,
            "grid_gap": null,
            "grid_row": null,
            "grid_template_areas": null,
            "grid_template_columns": null,
            "grid_template_rows": null,
            "height": null,
            "justify_content": null,
            "justify_items": null,
            "left": null,
            "margin": null,
            "max_height": null,
            "max_width": null,
            "min_height": null,
            "min_width": null,
            "object_fit": null,
            "object_position": null,
            "order": null,
            "overflow": null,
            "overflow_x": null,
            "overflow_y": null,
            "padding": null,
            "right": null,
            "top": null,
            "visibility": null,
            "width": null
          }
        },
        "dbeaee5a8f514d49940bf7142209a374": {
          "model_module": "@jupyter-widgets/controls",
          "model_name": "ProgressStyleModel",
          "model_module_version": "1.5.0",
          "state": {
            "_model_module": "@jupyter-widgets/controls",
            "_model_module_version": "1.5.0",
            "_model_name": "ProgressStyleModel",
            "_view_count": null,
            "_view_module": "@jupyter-widgets/base",
            "_view_module_version": "1.2.0",
            "_view_name": "StyleView",
            "bar_color": null,
            "description_width": ""
          }
        },
        "dc611ffa36e342dd93e98f71e340a406": {
          "model_module": "@jupyter-widgets/base",
          "model_name": "LayoutModel",
          "model_module_version": "1.2.0",
          "state": {
            "_model_module": "@jupyter-widgets/base",
            "_model_module_version": "1.2.0",
            "_model_name": "LayoutModel",
            "_view_count": null,
            "_view_module": "@jupyter-widgets/base",
            "_view_module_version": "1.2.0",
            "_view_name": "LayoutView",
            "align_content": null,
            "align_items": null,
            "align_self": null,
            "border": null,
            "bottom": null,
            "display": null,
            "flex": null,
            "flex_flow": null,
            "grid_area": null,
            "grid_auto_columns": null,
            "grid_auto_flow": null,
            "grid_auto_rows": null,
            "grid_column": null,
            "grid_gap": null,
            "grid_row": null,
            "grid_template_areas": null,
            "grid_template_columns": null,
            "grid_template_rows": null,
            "height": null,
            "justify_content": null,
            "justify_items": null,
            "left": null,
            "margin": null,
            "max_height": null,
            "max_width": null,
            "min_height": null,
            "min_width": null,
            "object_fit": null,
            "object_position": null,
            "order": null,
            "overflow": null,
            "overflow_x": null,
            "overflow_y": null,
            "padding": null,
            "right": null,
            "top": null,
            "visibility": null,
            "width": null
          }
        },
        "3ff78aa7cee74b7d86cb285da80d0701": {
          "model_module": "@jupyter-widgets/controls",
          "model_name": "DescriptionStyleModel",
          "model_module_version": "1.5.0",
          "state": {
            "_model_module": "@jupyter-widgets/controls",
            "_model_module_version": "1.5.0",
            "_model_name": "DescriptionStyleModel",
            "_view_count": null,
            "_view_module": "@jupyter-widgets/base",
            "_view_module_version": "1.2.0",
            "_view_name": "StyleView",
            "description_width": ""
          }
        }
      }
    }
  },
  "cells": [
    {
      "cell_type": "markdown",
      "source": [
        "# Pre-trained embeddings headline sentiment analysis\n",
        "This notebook performs sentiment analysis on article headlines with pre-trained embeddings to evaluate relationship between author gender and polarity score."
      ],
      "metadata": {
        "id": "mlqERl_gpm07"
      }
    },
    {
      "cell_type": "code",
      "source": [
        "!pip install gender_guesser\n",
        "!pip install -q transformers"
      ],
      "metadata": {
        "colab": {
          "base_uri": "https://localhost:8080/"
        },
        "id": "ZQ1O6SQpXu4A",
        "outputId": "49f8ac3f-bc09-4c27-e427-4e3c649d2001"
      },
      "execution_count": null,
      "outputs": [
        {
          "output_type": "stream",
          "name": "stdout",
          "text": [
            "Looking in indexes: https://pypi.org/simple, https://us-python.pkg.dev/colab-wheels/public/simple/\n",
            "Collecting gender_guesser\n",
            "  Downloading gender_guesser-0.4.0-py2.py3-none-any.whl (379 kB)\n",
            "\u001b[2K     \u001b[90m━━━━━━━━━━━━━━━━━━━━━━━━━━━━━━━━━━━━━━\u001b[0m \u001b[32m379.3/379.3 kB\u001b[0m \u001b[31m12.1 MB/s\u001b[0m eta \u001b[36m0:00:00\u001b[0m\n",
            "\u001b[?25hInstalling collected packages: gender_guesser\n",
            "Successfully installed gender_guesser-0.4.0\n",
            "\u001b[2K     \u001b[90m━━━━━━━━━━━━━━━━━━━━━━━━━━━━━━━━━━━━━━━━\u001b[0m \u001b[32m7.0/7.0 MB\u001b[0m \u001b[31m56.4 MB/s\u001b[0m eta \u001b[36m0:00:00\u001b[0m\n",
            "\u001b[2K     \u001b[90m━━━━━━━━━━━━━━━━━━━━━━━━━━━━━━━━━━━━━━━━\u001b[0m \u001b[32m7.8/7.8 MB\u001b[0m \u001b[31m74.7 MB/s\u001b[0m eta \u001b[36m0:00:00\u001b[0m\n",
            "\u001b[2K     \u001b[90m━━━━━━━━━━━━━━━━━━━━━━━━━━━━━━━━━━━━━━\u001b[0m \u001b[32m224.5/224.5 kB\u001b[0m \u001b[31m11.7 MB/s\u001b[0m eta \u001b[36m0:00:00\u001b[0m\n",
            "\u001b[?25h"
          ]
        }
      ]
    },
    {
      "cell_type": "code",
      "execution_count": null,
      "metadata": {
        "id": "x8LC3EzFTEFx"
      },
      "outputs": [],
      "source": [
        "import pandas as pd\n",
        "import requests\n",
        "import pandas as pd\n",
        "import numpy as np\n",
        "import matplotlib.pyplot as plt\n",
        "import seaborn as sns\n",
        "import gender_guesser.detector as gender\n",
        "plt.style.use('ggplot')\n",
        "%matplotlib inline\n",
        "\n",
        "import statsmodels.api as sm\n",
        "from scipy import stats\n",
        "\n",
        "import nltk"
      ]
    },
    {
      "cell_type": "code",
      "source": [
        "from google.colab import drive\n",
        "drive.mount('/content/drive')"
      ],
      "metadata": {
        "colab": {
          "base_uri": "https://localhost:8080/"
        },
        "id": "eEyUsZPKTGfL",
        "outputId": "283d9c48-26de-4334-e6fd-0db55daea6cc"
      },
      "execution_count": null,
      "outputs": [
        {
          "output_type": "stream",
          "name": "stdout",
          "text": [
            "Mounted at /content/drive\n"
          ]
        }
      ]
    },
    {
      "cell_type": "code",
      "source": [
        "df = pd.read_csv('/content/drive/MyDrive/[4] Final Paper 2023, BSc/[11] Author gender and sentiment analysis/sa_emotion.csv')"
      ],
      "metadata": {
        "id": "cNCpUIaCnX11"
      },
      "execution_count": null,
      "outputs": []
    },
    {
      "cell_type": "code",
      "source": [
        "df[\"first_names\"] = df[\"author\"].str.split(\",\")"
      ],
      "metadata": {
        "id": "FkZGiNV6ejMS"
      },
      "execution_count": null,
      "outputs": []
    },
    {
      "cell_type": "code",
      "source": [
        "df = df.dropna(subset=['first_names'])\n",
        "for index, row in df.iterrows():\n",
        "    if len(row['first_names']) > 1:\n",
        "        print(row['first_names'])"
      ],
      "metadata": {
        "id": "s9YYuaD0_xib"
      },
      "execution_count": null,
      "outputs": []
    },
    {
      "cell_type": "markdown",
      "source": [
        "## Gender Prediction"
      ],
      "metadata": {
        "id": "ddurfpiDU-N2"
      }
    },
    {
      "cell_type": "code",
      "source": [
        "import gender_guesser.detector as gender\n",
        "d = gender.Detector()\n",
        "\n",
        "df['genders'] = [[d.get_gender(name.split()[0]) for name in authors] for authors in df['first_names']]\n"
      ],
      "metadata": {
        "id": "q1x9XQFQBN9g"
      },
      "execution_count": null,
      "outputs": []
    },
    {
      "cell_type": "code",
      "source": [
        "for index, row in df.iterrows():\n",
        "    if len(row['genders']) > 1:\n",
        "        print(row['genders'])"
      ],
      "metadata": {
        "id": "-7tdmpuCBWB_"
      },
      "execution_count": null,
      "outputs": []
    },
    {
      "cell_type": "code",
      "source": [
        "from collections import Counter\n",
        "\n",
        "def get_majority_gender(genders):\n",
        "    gender_count = Counter(genders)\n",
        "    return gender_count.most_common(1)[0][0]\n",
        "\n",
        "df[\"majority_gender\"] = df[\"genders\"].apply(get_majority_gender)\n"
      ],
      "metadata": {
        "id": "5nTC04nOBibN"
      },
      "execution_count": null,
      "outputs": []
    },
    {
      "cell_type": "code",
      "source": [
        "df['majority_gender']"
      ],
      "metadata": {
        "colab": {
          "base_uri": "https://localhost:8080/"
        },
        "id": "-u-At6WGBwXA",
        "outputId": "ca7db8a7-65d1-4b99-fbad-308caa5bf678"
      },
      "execution_count": null,
      "outputs": [
        {
          "output_type": "execute_result",
          "data": {
            "text/plain": [
              "0         female\n",
              "1        unknown\n",
              "2           male\n",
              "3           male\n",
              "4         female\n",
              "          ...   \n",
              "40121    unknown\n",
              "40122    unknown\n",
              "40123    unknown\n",
              "40124       male\n",
              "40125       male\n",
              "Name: majority_gender, Length: 40124, dtype: object"
            ]
          },
          "metadata": {},
          "execution_count": 29
        }
      ]
    },
    {
      "cell_type": "code",
      "source": [
        "df.groupby('majority_gender').count()['Id']"
      ],
      "metadata": {
        "colab": {
          "base_uri": "https://localhost:8080/"
        },
        "id": "URZx_9I1B2Fz",
        "outputId": "4a3f3ee1-bc03-45be-cee2-fab6b917954b"
      },
      "execution_count": null,
      "outputs": [
        {
          "output_type": "execute_result",
          "data": {
            "text/plain": [
              "majority_gender\n",
              "andy               182\n",
              "female            9783\n",
              "male             24823\n",
              "mostly_female      936\n",
              "mostly_male       1687\n",
              "unknown           2713\n",
              "Name: Id, dtype: int64"
            ]
          },
          "metadata": {},
          "execution_count": 32
        }
      ]
    },
    {
      "cell_type": "code",
      "source": [
        "df.groupby(['section', 'majority_gender']).count()['Id']"
      ],
      "metadata": {
        "colab": {
          "base_uri": "https://localhost:8080/"
        },
        "id": "_uGHcCx3DiOQ",
        "outputId": "9b47a6f6-c0cd-462d-94bc-3fb6d0c7b55e"
      },
      "execution_count": null,
      "outputs": [
        {
          "output_type": "execute_result",
          "data": {
            "text/plain": [
              "section          majority_gender\n",
              "Arts             andy                   8\n",
              "                 female              5131\n",
              "                 male               11898\n",
              "                 mostly_female        418\n",
              "                 mostly_male          643\n",
              "                 unknown              933\n",
              "Books            andy                  31\n",
              "                 female              2524\n",
              "                 male                2250\n",
              "                 mostly_female        204\n",
              "                 mostly_male           92\n",
              "                 unknown              381\n",
              "Education        female               101\n",
              "                 male                  45\n",
              "                 mostly_female         37\n",
              "                 mostly_male            1\n",
              "                 unknown               20\n",
              "Fashion & Style  andy                   2\n",
              "                 female               704\n",
              "                 male                 658\n",
              "                 mostly_female        123\n",
              "                 mostly_male            8\n",
              "                 unknown              154\n",
              "Food             female                88\n",
              "                 male                 246\n",
              "                 unknown                3\n",
              "Health           unknown                1\n",
              "Movies           female                 1\n",
              "                 male                   1\n",
              "                 unknown                9\n",
              "Parenting        female               148\n",
              "                 male                  25\n",
              "                 mostly_female          6\n",
              "                 mostly_male            1\n",
              "                 unknown                7\n",
              "Science          female                 8\n",
              "                 male                  28\n",
              "                 mostly_female          3\n",
              "                 mostly_male            2\n",
              "                 unknown               30\n",
              "Sports           andy                 141\n",
              "                 female              1014\n",
              "                 male                9374\n",
              "                 mostly_female        127\n",
              "                 mostly_male          878\n",
              "                 unknown              443\n",
              "Technology       female                64\n",
              "                 male                 298\n",
              "                 mostly_female         18\n",
              "                 mostly_male           62\n",
              "                 unknown              732\n",
              "Name: Id, dtype: int64"
            ]
          },
          "metadata": {},
          "execution_count": 35
        }
      ]
    },
    {
      "cell_type": "code",
      "source": [
        "df.to_csv('/content/drive/MyDrive/[4] Final Paper 2023, BSc/[11] Author gender and sentiment analysis/majority_gender.csv')"
      ],
      "metadata": {
        "id": "QsMBGFxzCTD5"
      },
      "execution_count": null,
      "outputs": []
    },
    {
      "cell_type": "markdown",
      "source": [
        "## Sentiment Analysis\n"
      ],
      "metadata": {
        "id": "Q7kTbZHBU63c"
      }
    },
    {
      "cell_type": "code",
      "source": [
        "from transformers import AutoTokenizer\n",
        "from transformers import AutoModelForSequenceClassification\n",
        "from scipy.special import softmax\n",
        "from tqdm import tqdm"
      ],
      "metadata": {
        "id": "ausOqMPIVA6o"
      },
      "execution_count": null,
      "outputs": []
    },
    {
      "cell_type": "code",
      "source": [
        "MODEL = f\"cardiffnlp/twitter-roberta-base-sentiment\"\n",
        "tokenizer = AutoTokenizer.from_pretrained(MODEL)\n",
        "model = AutoModelForSequenceClassification.from_pretrained(MODEL)"
      ],
      "metadata": {
        "id": "W1Wcq-YRVKTA",
        "colab": {
          "base_uri": "https://localhost:8080/",
          "height": 177,
          "referenced_widgets": [
            "49cfb644a6f14da9b121d2d5755a5004",
            "29d217a35e1a4b8d878c712571263374",
            "7eadceff42b74e7eb6108bbd105e281e",
            "f0b56836889f4df586b0fdf6e6e6c53b",
            "41fdf738232f499696418e87d440591b",
            "2ebf96f138e34998977a2c0a1f1071c8",
            "594f483d81434daeb418dc0a31d3c307",
            "e122113cafa0453383080b6ff84387d8",
            "0888a76d6ba840dc8c0c3c4a11bf3f6c",
            "545aa28c841d45b59922715842c535a9",
            "e04f9636d2eb4274b18bb89c600f44aa",
            "2d0e7039e36446b4aef2b384745b1f43",
            "6639a72c6e484ede8b8ad03b5106562f",
            "b0925f58af314afbb3c9396dd6f11ce8",
            "9fd87e43dafb40a3a5459fe3481ccf0b",
            "c5f070ea7ca44fb8a323eafdbfa876aa",
            "b8f76e11314946bbb8e3d8334651ff68",
            "7e4f08b1321449c79d2d470224ff7173",
            "75c1f5ba16794c6997b4a051a53255e3",
            "3676ad8e88f549e5bf008285f2e87669",
            "f66c25574bc4472baa5dbff1e49cf578",
            "ac16a02b400c4fc9a27f01c66337da72",
            "8e265989cccd4e74ab558cd277324d3d",
            "f4941658c4f2498b875b6178456b9843",
            "bebd68ec31dd4ef0af2a739455b39cf3",
            "f66cac279c014731b397b71ed5ba6bc5",
            "6b8143af626c432296f925840935104a",
            "4ead51e373e44b6b982e3887b3e93feb",
            "62657665336a432894c893f468581890",
            "61054c14aa564324922191c09205d22f",
            "269df5801c3d4eda9949327f4a95725a",
            "b60fe706bcca4b9c9364182acb1c1fa2",
            "98532698d4734bcaa2dca9b2101ccef5",
            "5996783cb2e24a0480ad6bf99f8b637c",
            "ce808e823e4f40ae9a1ce54d56d3d3f1",
            "1bd4d07bc17842bbafb02f45346c5d8e",
            "104eeaa0d6b04505bea90c8447149d9c",
            "15b576b0871742d4940e515f976926e2",
            "a224d548b2944720b24fbbe5762d9a55",
            "24847816bf684b5dadc28cda0c52a018",
            "7095337333e348e7b0288c914e1ee95a",
            "e683dc5a45384b42b2efc67090341b19",
            "4f80e6b1892e4b9f9529c0ef68435f75",
            "057df90617c0451e9fdc077b8b9109d2",
            "4890639ea9804ac9bfa59d3bd49c6bd7",
            "f4f003e6d35042c89b190d0ca8185b11",
            "9f0d45b7466f4409aa7ad744c63b562f",
            "241d639bb36e4c3ba5ea2ba5328a2160",
            "b9f6bc9fa84a4c889f4a7f95438989d6",
            "f0fa7784b1994fa4ba6cb49647fb0122",
            "c61e48631b804bd3a020fb1d81cd1cf2",
            "e104e14bf78648eeaa689290960541f8",
            "dbeaee5a8f514d49940bf7142209a374",
            "dc611ffa36e342dd93e98f71e340a406",
            "3ff78aa7cee74b7d86cb285da80d0701"
          ]
        },
        "outputId": "51a33e5c-6376-4775-97f5-bbc400b241d5"
      },
      "execution_count": null,
      "outputs": [
        {
          "output_type": "display_data",
          "data": {
            "text/plain": [
              "Downloading (…)lve/main/config.json:   0%|          | 0.00/747 [00:00<?, ?B/s]"
            ],
            "application/vnd.jupyter.widget-view+json": {
              "version_major": 2,
              "version_minor": 0,
              "model_id": "49cfb644a6f14da9b121d2d5755a5004"
            }
          },
          "metadata": {}
        },
        {
          "output_type": "display_data",
          "data": {
            "text/plain": [
              "Downloading (…)olve/main/vocab.json:   0%|          | 0.00/899k [00:00<?, ?B/s]"
            ],
            "application/vnd.jupyter.widget-view+json": {
              "version_major": 2,
              "version_minor": 0,
              "model_id": "2d0e7039e36446b4aef2b384745b1f43"
            }
          },
          "metadata": {}
        },
        {
          "output_type": "display_data",
          "data": {
            "text/plain": [
              "Downloading (…)olve/main/merges.txt:   0%|          | 0.00/456k [00:00<?, ?B/s]"
            ],
            "application/vnd.jupyter.widget-view+json": {
              "version_major": 2,
              "version_minor": 0,
              "model_id": "8e265989cccd4e74ab558cd277324d3d"
            }
          },
          "metadata": {}
        },
        {
          "output_type": "display_data",
          "data": {
            "text/plain": [
              "Downloading (…)cial_tokens_map.json:   0%|          | 0.00/150 [00:00<?, ?B/s]"
            ],
            "application/vnd.jupyter.widget-view+json": {
              "version_major": 2,
              "version_minor": 0,
              "model_id": "5996783cb2e24a0480ad6bf99f8b637c"
            }
          },
          "metadata": {}
        },
        {
          "output_type": "display_data",
          "data": {
            "text/plain": [
              "Downloading pytorch_model.bin:   0%|          | 0.00/499M [00:00<?, ?B/s]"
            ],
            "application/vnd.jupyter.widget-view+json": {
              "version_major": 2,
              "version_minor": 0,
              "model_id": "4890639ea9804ac9bfa59d3bd49c6bd7"
            }
          },
          "metadata": {}
        }
      ]
    },
    {
      "cell_type": "code",
      "source": [
        "example = df['headline'][120]"
      ],
      "metadata": {
        "id": "O_nBOGYIVZgk"
      },
      "execution_count": null,
      "outputs": []
    },
    {
      "cell_type": "code",
      "source": [
        "encoded_text = tokenizer(example, return_tensors='pt')\n",
        "output = model(**encoded_text)\n",
        "scores = output[0][0].detach().numpy()\n",
        "scores = softmax(scores)\n",
        "scores_dict = {\n",
        "    'roberta_neg' : scores[0],\n",
        "    'roberta_neu' : scores[1],\n",
        "    'roberta_pos' : scores[2]\n",
        "}\n",
        "print(scores_dict)"
      ],
      "metadata": {
        "id": "Ou2BA7G8VSwX",
        "colab": {
          "base_uri": "https://localhost:8080/"
        },
        "outputId": "3c41abf9-c85d-4b61-a4d5-ec4f67c825ae"
      },
      "execution_count": null,
      "outputs": [
        {
          "output_type": "stream",
          "name": "stdout",
          "text": [
            "{'roberta_neg': 0.06354878, 'roberta_neu': 0.8119842, 'roberta_pos': 0.12446704}\n"
          ]
        }
      ]
    },
    {
      "cell_type": "code",
      "source": [
        "def polarity_scores_roberta(example):\n",
        "    encoded_text = tokenizer(example, return_tensors='pt')\n",
        "    output = model(**encoded_text)\n",
        "    scores = output[0][0].detach().numpy()\n",
        "    scores = softmax(scores)\n",
        "    scores_dict = {\n",
        "        'roberta_neg' : scores[0],\n",
        "        'roberta_neu' : scores[1],\n",
        "        'roberta_pos' : scores[2]\n",
        "    }\n",
        "    \n",
        "    return scores_dict"
      ],
      "metadata": {
        "id": "ye9lc5_ZVhY9"
      },
      "execution_count": null,
      "outputs": []
    },
    {
      "cell_type": "markdown",
      "source": [
        "### Headline polarity"
      ],
      "metadata": {
        "id": "sNsY9THEb2_W"
      }
    },
    {
      "cell_type": "code",
      "source": [
        "res = {}\n",
        "for i, row in tqdm(df.iterrows(), total=len(df)):\n",
        "    try:\n",
        "        text = row['headline']\n",
        "        myid = df.index[i]\n",
        "      \n",
        "        roberta_result = polarity_scores_roberta(text)\n",
        "        \n",
        "        res[i] = roberta_result\n",
        "    except RuntimeError:\n",
        "        print(f'Broke for id {myid}')"
      ],
      "metadata": {
        "id": "aaoB1vORnmBw"
      },
      "execution_count": null,
      "outputs": []
    },
    {
      "cell_type": "code",
      "source": [
        "results_df = pd.DataFrame(res).T\n",
        "results_df = results_df.reset_index().rename(columns={'index': 'Id'})"
      ],
      "metadata": {
        "id": "lw--27Yips9M"
      },
      "execution_count": null,
      "outputs": []
    },
    {
      "cell_type": "code",
      "source": [
        "results_df"
      ],
      "metadata": {
        "id": "_BJJnGjQr6oL"
      },
      "execution_count": null,
      "outputs": []
    },
    {
      "cell_type": "code",
      "source": [
        "df = df.reset_index().rename(columns={'index': 'Id'})"
      ],
      "metadata": {
        "id": "3pZ5eriKs0OQ"
      },
      "execution_count": null,
      "outputs": []
    },
    {
      "cell_type": "code",
      "source": [
        "merged = pd.merge(df, results_df, on='Id')"
      ],
      "metadata": {
        "id": "v4ys7IujsAOd"
      },
      "execution_count": null,
      "outputs": []
    },
    {
      "cell_type": "code",
      "source": [
        "merged.head()"
      ],
      "metadata": {
        "id": "Uw3MfKNeZ5mg"
      },
      "execution_count": null,
      "outputs": []
    },
    {
      "cell_type": "markdown",
      "source": [
        "### Headline emotions\n"
      ],
      "metadata": {
        "id": "ykTWlRMWcCeb"
      }
    },
    {
      "cell_type": "code",
      "source": [
        "emotion ='bhadresh-savani/distilbert-base-uncased-emotion'\n",
        "tokenizer_emotion = AutoTokenizer.from_pretrained(emotion)\n",
        "emo = AutoModelForSequenceClassification.from_pretrained(emotion)"
      ],
      "metadata": {
        "id": "f0_fHxXajlxX"
      },
      "execution_count": null,
      "outputs": []
    },
    {
      "cell_type": "code",
      "source": [
        "encoded_text = tokenizer_emotion(example, return_tensors='pt')\n",
        "output = emo(**encoded_text)\n",
        "scores = output[0][0].detach().numpy()\n",
        "scores = softmax(scores)\n",
        "scores_dict = {\n",
        "    'sadness': scores[0], \n",
        "    'joy': scores[1], \n",
        "    'love':  scores[2],\n",
        "    'anger': scores[3], \n",
        "    'fear': scores[4], \n",
        "    'surprise': scores[5]\n",
        "}\n",
        "print(scores_dict)"
      ],
      "metadata": {
        "id": "QhsdD3E6jsf9"
      },
      "execution_count": null,
      "outputs": []
    },
    {
      "cell_type": "code",
      "source": [
        "def emotion_scores_bert(example):\n",
        "    encoded_text = tokenizer_emotion(example, return_tensors='pt')\n",
        "    output = emo(**encoded_text)\n",
        "    scores = output[0][0].detach().numpy()\n",
        "    scores = softmax(scores)\n",
        "    scores_dict = {\n",
        "    'sadness': scores[0], \n",
        "    'joy': scores[1], \n",
        "    'love':  scores[2],\n",
        "    'anger': scores[3], \n",
        "    'fear': scores[4], \n",
        "    'surprise': scores[5]\n",
        "    }\n",
        "    \n",
        "    return scores_dict"
      ],
      "metadata": {
        "id": "3vdEZTv9pTHI"
      },
      "execution_count": null,
      "outputs": []
    },
    {
      "cell_type": "code",
      "source": [
        "res = {}\n",
        "for i, row in tqdm(df.iterrows(), total=len(df)):\n",
        "    try:\n",
        "        text = row['headline']\n",
        "        myid = df.index[i]\n",
        "      \n",
        "        bert_result = emotion_scores_bert(text)\n",
        "        \n",
        "        res[i] = bert_result\n",
        "    except RuntimeError:\n",
        "        print(f'Broke for id {myid}')"
      ],
      "metadata": {
        "id": "RcnI_hHjkQ9s"
      },
      "execution_count": null,
      "outputs": []
    },
    {
      "cell_type": "code",
      "source": [
        "results_df = pd.DataFrame(res).T\n",
        "results_df = results_df.reset_index().rename(columns={'index': 'Id'})"
      ],
      "metadata": {
        "id": "5hnqVwKokrta"
      },
      "execution_count": null,
      "outputs": []
    },
    {
      "cell_type": "code",
      "source": [
        "merged = pd.merge(df, results_df, on='Id')"
      ],
      "metadata": {
        "id": "4Gnq2oEkkvkK"
      },
      "execution_count": null,
      "outputs": []
    },
    {
      "cell_type": "code",
      "source": [
        "merged.head()"
      ],
      "metadata": {
        "id": "Ji_6jTMikwAB"
      },
      "execution_count": null,
      "outputs": []
    },
    {
      "cell_type": "code",
      "source": [
        "merged['year']"
      ],
      "metadata": {
        "id": "koy5jzZnsynM"
      },
      "execution_count": null,
      "outputs": []
    },
    {
      "cell_type": "markdown",
      "source": [
        "## Evaluation\n"
      ],
      "metadata": {
        "id": "aRsYHtp9nQq6"
      }
    },
    {
      "cell_type": "code",
      "source": [
        "df = pd.read_csv('/content/drive/MyDrive/[4] Final Paper 2023, BSc/[11] Author gender and sentiment analysis/majority_gender.csv')"
      ],
      "metadata": {
        "id": "SB_1L9P1TLnu"
      },
      "execution_count": null,
      "outputs": []
    },
    {
      "cell_type": "code",
      "source": [
        "df = df.drop(df[df['majority_gender'] == 'unknown'].index)"
      ],
      "metadata": {
        "id": "ZlolohI-ai0q"
      },
      "execution_count": null,
      "outputs": []
    },
    {
      "cell_type": "code",
      "source": [
        "df['gender_new_multi'] = df['majority_gender'].replace({'male': 'Male', 'mostly_male': 'Male', 'female': 'Female', 'mostly_female': 'Female', 'andy': 'Androgenous'})"
      ],
      "metadata": {
        "id": "M3PSo4u4amNE"
      },
      "execution_count": null,
      "outputs": []
    },
    {
      "cell_type": "code",
      "source": [
        "df.head()"
      ],
      "metadata": {
        "colab": {
          "base_uri": "https://localhost:8080/",
          "height": 734
        },
        "id": "eu8LStfbbDft",
        "outputId": "afc48059-7d9a-4127-e736-5945a7aed116"
      },
      "execution_count": null,
      "outputs": [
        {
          "output_type": "execute_result",
          "data": {
            "text/plain": [
              "   Unnamed: 0.3  Unnamed: 0.2  Unnamed: 0.1  Id  Unnamed: 0  \\\n",
              "0             0             0             0   0           0   \n",
              "2             2             2             2   2           2   \n",
              "3             3             3             3   3           3   \n",
              "4             4             4             4   4           4   \n",
              "5             5             5             5   5           5   \n",
              "\n",
              "                                            headline        date  \\\n",
              "0   How Much Watching Time Do You Have This Weekend?  2019-03-01   \n",
              "2  What’s on TV Friday: ‘The Boy Who Harnessed th...  2019-03-01   \n",
              "3  New York Has a Public Housing Problem. Does Lo...  2019-03-01   \n",
              "4       William Forsythe: ‘Isn’t Ballet Delightful?’  2019-03-01   \n",
              "5  Jimmy Kimmel Compares Trump’s Failed North Kor...  2019-03-01   \n",
              "\n",
              "                                             web_url doc_type  \\\n",
              "0  https://www.nytimes.com/2019/02/28/arts/televi...  article   \n",
              "2  https://www.nytimes.com/2019/03/01/arts/televi...  article   \n",
              "3  https://www.nytimes.com/2019/03/01/arts/design...  article   \n",
              "4  https://www.nytimes.com/2019/03/01/arts/dance/...  article   \n",
              "5  https://www.nytimes.com/2019/03/01/arts/televi...  article   \n",
              "\n",
              "                                      lead_paragraph  ...   sadness       joy  \\\n",
              "0  No matter how much free time you have this wee...  ...  0.036533  0.317630   \n",
              "2  Chiwetel Ejiofor’s directorial debut hits Netf...  ...  0.074762  0.129860   \n",
              "3  LONDON — Is there a better way to do public ho...  ...  0.014387  0.010716   \n",
              "4  BOSTON — “Give me a little booty! Show off! Gl...  ...  0.000840  0.995359   \n",
              "5  Welcome to Best of Late Night, a rundown of th...  ...  0.298083  0.040747   \n",
              "\n",
              "       love     anger      fear  surprise               first_names  \\\n",
              "0  0.005219  0.550749  0.085238  0.004631       [' Margaret Lyons']   \n",
              "2  0.014392  0.628263  0.144119  0.008603            [' Gabe Cohn']   \n",
              "3  0.000827  0.927617  0.045445  0.001009    [' Michael Kimmelman']   \n",
              "4  0.001461  0.000564  0.000471  0.001305        [' Roslyn Sulcas']   \n",
              "5  0.004838  0.635786  0.016495  0.004050  [' Giovanni Russonello']   \n",
              "\n",
              "      genders majority_gender  gender_new_multi  \n",
              "0  ['female']          female            Female  \n",
              "2    ['male']            male              Male  \n",
              "3    ['male']            male              Male  \n",
              "4  ['female']          female            Female  \n",
              "5    ['male']            male              Male  \n",
              "\n",
              "[5 rows x 32 columns]"
            ],
            "text/html": [
              "\n",
              "  <div id=\"df-2147c5a3-0554-4e63-9ba2-93c9bbbc5357\">\n",
              "    <div class=\"colab-df-container\">\n",
              "      <div>\n",
              "<style scoped>\n",
              "    .dataframe tbody tr th:only-of-type {\n",
              "        vertical-align: middle;\n",
              "    }\n",
              "\n",
              "    .dataframe tbody tr th {\n",
              "        vertical-align: top;\n",
              "    }\n",
              "\n",
              "    .dataframe thead th {\n",
              "        text-align: right;\n",
              "    }\n",
              "</style>\n",
              "<table border=\"1\" class=\"dataframe\">\n",
              "  <thead>\n",
              "    <tr style=\"text-align: right;\">\n",
              "      <th></th>\n",
              "      <th>Unnamed: 0.3</th>\n",
              "      <th>Unnamed: 0.2</th>\n",
              "      <th>Unnamed: 0.1</th>\n",
              "      <th>Id</th>\n",
              "      <th>Unnamed: 0</th>\n",
              "      <th>headline</th>\n",
              "      <th>date</th>\n",
              "      <th>web_url</th>\n",
              "      <th>doc_type</th>\n",
              "      <th>lead_paragraph</th>\n",
              "      <th>...</th>\n",
              "      <th>sadness</th>\n",
              "      <th>joy</th>\n",
              "      <th>love</th>\n",
              "      <th>anger</th>\n",
              "      <th>fear</th>\n",
              "      <th>surprise</th>\n",
              "      <th>first_names</th>\n",
              "      <th>genders</th>\n",
              "      <th>majority_gender</th>\n",
              "      <th>gender_new_multi</th>\n",
              "    </tr>\n",
              "  </thead>\n",
              "  <tbody>\n",
              "    <tr>\n",
              "      <th>0</th>\n",
              "      <td>0</td>\n",
              "      <td>0</td>\n",
              "      <td>0</td>\n",
              "      <td>0</td>\n",
              "      <td>0</td>\n",
              "      <td>How Much Watching Time Do You Have This Weekend?</td>\n",
              "      <td>2019-03-01</td>\n",
              "      <td>https://www.nytimes.com/2019/02/28/arts/televi...</td>\n",
              "      <td>article</td>\n",
              "      <td>No matter how much free time you have this wee...</td>\n",
              "      <td>...</td>\n",
              "      <td>0.036533</td>\n",
              "      <td>0.317630</td>\n",
              "      <td>0.005219</td>\n",
              "      <td>0.550749</td>\n",
              "      <td>0.085238</td>\n",
              "      <td>0.004631</td>\n",
              "      <td>[' Margaret Lyons']</td>\n",
              "      <td>['female']</td>\n",
              "      <td>female</td>\n",
              "      <td>Female</td>\n",
              "    </tr>\n",
              "    <tr>\n",
              "      <th>2</th>\n",
              "      <td>2</td>\n",
              "      <td>2</td>\n",
              "      <td>2</td>\n",
              "      <td>2</td>\n",
              "      <td>2</td>\n",
              "      <td>What’s on TV Friday: ‘The Boy Who Harnessed th...</td>\n",
              "      <td>2019-03-01</td>\n",
              "      <td>https://www.nytimes.com/2019/03/01/arts/televi...</td>\n",
              "      <td>article</td>\n",
              "      <td>Chiwetel Ejiofor’s directorial debut hits Netf...</td>\n",
              "      <td>...</td>\n",
              "      <td>0.074762</td>\n",
              "      <td>0.129860</td>\n",
              "      <td>0.014392</td>\n",
              "      <td>0.628263</td>\n",
              "      <td>0.144119</td>\n",
              "      <td>0.008603</td>\n",
              "      <td>[' Gabe Cohn']</td>\n",
              "      <td>['male']</td>\n",
              "      <td>male</td>\n",
              "      <td>Male</td>\n",
              "    </tr>\n",
              "    <tr>\n",
              "      <th>3</th>\n",
              "      <td>3</td>\n",
              "      <td>3</td>\n",
              "      <td>3</td>\n",
              "      <td>3</td>\n",
              "      <td>3</td>\n",
              "      <td>New York Has a Public Housing Problem. Does Lo...</td>\n",
              "      <td>2019-03-01</td>\n",
              "      <td>https://www.nytimes.com/2019/03/01/arts/design...</td>\n",
              "      <td>article</td>\n",
              "      <td>LONDON — Is there a better way to do public ho...</td>\n",
              "      <td>...</td>\n",
              "      <td>0.014387</td>\n",
              "      <td>0.010716</td>\n",
              "      <td>0.000827</td>\n",
              "      <td>0.927617</td>\n",
              "      <td>0.045445</td>\n",
              "      <td>0.001009</td>\n",
              "      <td>[' Michael Kimmelman']</td>\n",
              "      <td>['male']</td>\n",
              "      <td>male</td>\n",
              "      <td>Male</td>\n",
              "    </tr>\n",
              "    <tr>\n",
              "      <th>4</th>\n",
              "      <td>4</td>\n",
              "      <td>4</td>\n",
              "      <td>4</td>\n",
              "      <td>4</td>\n",
              "      <td>4</td>\n",
              "      <td>William Forsythe: ‘Isn’t Ballet Delightful?’</td>\n",
              "      <td>2019-03-01</td>\n",
              "      <td>https://www.nytimes.com/2019/03/01/arts/dance/...</td>\n",
              "      <td>article</td>\n",
              "      <td>BOSTON — “Give me a little booty! Show off! Gl...</td>\n",
              "      <td>...</td>\n",
              "      <td>0.000840</td>\n",
              "      <td>0.995359</td>\n",
              "      <td>0.001461</td>\n",
              "      <td>0.000564</td>\n",
              "      <td>0.000471</td>\n",
              "      <td>0.001305</td>\n",
              "      <td>[' Roslyn Sulcas']</td>\n",
              "      <td>['female']</td>\n",
              "      <td>female</td>\n",
              "      <td>Female</td>\n",
              "    </tr>\n",
              "    <tr>\n",
              "      <th>5</th>\n",
              "      <td>5</td>\n",
              "      <td>5</td>\n",
              "      <td>5</td>\n",
              "      <td>5</td>\n",
              "      <td>5</td>\n",
              "      <td>Jimmy Kimmel Compares Trump’s Failed North Kor...</td>\n",
              "      <td>2019-03-01</td>\n",
              "      <td>https://www.nytimes.com/2019/03/01/arts/televi...</td>\n",
              "      <td>article</td>\n",
              "      <td>Welcome to Best of Late Night, a rundown of th...</td>\n",
              "      <td>...</td>\n",
              "      <td>0.298083</td>\n",
              "      <td>0.040747</td>\n",
              "      <td>0.004838</td>\n",
              "      <td>0.635786</td>\n",
              "      <td>0.016495</td>\n",
              "      <td>0.004050</td>\n",
              "      <td>[' Giovanni Russonello']</td>\n",
              "      <td>['male']</td>\n",
              "      <td>male</td>\n",
              "      <td>Male</td>\n",
              "    </tr>\n",
              "  </tbody>\n",
              "</table>\n",
              "<p>5 rows × 32 columns</p>\n",
              "</div>\n",
              "      <button class=\"colab-df-convert\" onclick=\"convertToInteractive('df-2147c5a3-0554-4e63-9ba2-93c9bbbc5357')\"\n",
              "              title=\"Convert this dataframe to an interactive table.\"\n",
              "              style=\"display:none;\">\n",
              "        \n",
              "  <svg xmlns=\"http://www.w3.org/2000/svg\" height=\"24px\"viewBox=\"0 0 24 24\"\n",
              "       width=\"24px\">\n",
              "    <path d=\"M0 0h24v24H0V0z\" fill=\"none\"/>\n",
              "    <path d=\"M18.56 5.44l.94 2.06.94-2.06 2.06-.94-2.06-.94-.94-2.06-.94 2.06-2.06.94zm-11 1L8.5 8.5l.94-2.06 2.06-.94-2.06-.94L8.5 2.5l-.94 2.06-2.06.94zm10 10l.94 2.06.94-2.06 2.06-.94-2.06-.94-.94-2.06-.94 2.06-2.06.94z\"/><path d=\"M17.41 7.96l-1.37-1.37c-.4-.4-.92-.59-1.43-.59-.52 0-1.04.2-1.43.59L10.3 9.45l-7.72 7.72c-.78.78-.78 2.05 0 2.83L4 21.41c.39.39.9.59 1.41.59.51 0 1.02-.2 1.41-.59l7.78-7.78 2.81-2.81c.8-.78.8-2.07 0-2.86zM5.41 20L4 18.59l7.72-7.72 1.47 1.35L5.41 20z\"/>\n",
              "  </svg>\n",
              "      </button>\n",
              "      \n",
              "  <style>\n",
              "    .colab-df-container {\n",
              "      display:flex;\n",
              "      flex-wrap:wrap;\n",
              "      gap: 12px;\n",
              "    }\n",
              "\n",
              "    .colab-df-convert {\n",
              "      background-color: #E8F0FE;\n",
              "      border: none;\n",
              "      border-radius: 50%;\n",
              "      cursor: pointer;\n",
              "      display: none;\n",
              "      fill: #1967D2;\n",
              "      height: 32px;\n",
              "      padding: 0 0 0 0;\n",
              "      width: 32px;\n",
              "    }\n",
              "\n",
              "    .colab-df-convert:hover {\n",
              "      background-color: #E2EBFA;\n",
              "      box-shadow: 0px 1px 2px rgba(60, 64, 67, 0.3), 0px 1px 3px 1px rgba(60, 64, 67, 0.15);\n",
              "      fill: #174EA6;\n",
              "    }\n",
              "\n",
              "    [theme=dark] .colab-df-convert {\n",
              "      background-color: #3B4455;\n",
              "      fill: #D2E3FC;\n",
              "    }\n",
              "\n",
              "    [theme=dark] .colab-df-convert:hover {\n",
              "      background-color: #434B5C;\n",
              "      box-shadow: 0px 1px 3px 1px rgba(0, 0, 0, 0.15);\n",
              "      filter: drop-shadow(0px 1px 2px rgba(0, 0, 0, 0.3));\n",
              "      fill: #FFFFFF;\n",
              "    }\n",
              "  </style>\n",
              "\n",
              "      <script>\n",
              "        const buttonEl =\n",
              "          document.querySelector('#df-2147c5a3-0554-4e63-9ba2-93c9bbbc5357 button.colab-df-convert');\n",
              "        buttonEl.style.display =\n",
              "          google.colab.kernel.accessAllowed ? 'block' : 'none';\n",
              "\n",
              "        async function convertToInteractive(key) {\n",
              "          const element = document.querySelector('#df-2147c5a3-0554-4e63-9ba2-93c9bbbc5357');\n",
              "          const dataTable =\n",
              "            await google.colab.kernel.invokeFunction('convertToInteractive',\n",
              "                                                     [key], {});\n",
              "          if (!dataTable) return;\n",
              "\n",
              "          const docLinkHtml = 'Like what you see? Visit the ' +\n",
              "            '<a target=\"_blank\" href=https://colab.research.google.com/notebooks/data_table.ipynb>data table notebook</a>'\n",
              "            + ' to learn more about interactive tables.';\n",
              "          element.innerHTML = '';\n",
              "          dataTable['output_type'] = 'display_data';\n",
              "          await google.colab.output.renderOutput(dataTable, element);\n",
              "          const docLink = document.createElement('div');\n",
              "          docLink.innerHTML = docLinkHtml;\n",
              "          element.appendChild(docLink);\n",
              "        }\n",
              "      </script>\n",
              "    </div>\n",
              "  </div>\n",
              "  "
            ]
          },
          "metadata": {},
          "execution_count": 10
        }
      ]
    },
    {
      "cell_type": "markdown",
      "source": [
        "### Visual analysis"
      ],
      "metadata": {
        "id": "at8e3ILkqZzW"
      }
    },
    {
      "cell_type": "code",
      "source": [
        "df.groupby('majority_gender').sum()['roberta_neu']"
      ],
      "metadata": {
        "colab": {
          "base_uri": "https://localhost:8080/"
        },
        "id": "YgbydRr9rJyV",
        "outputId": "dfc101bc-d20a-4a3f-fac7-253efa17f297"
      },
      "execution_count": null,
      "outputs": [
        {
          "output_type": "stream",
          "name": "stderr",
          "text": [
            "<ipython-input-13-fe342818ad15>:1: FutureWarning: The default value of numeric_only in DataFrameGroupBy.sum is deprecated. In a future version, numeric_only will default to False. Either specify numeric_only or select only columns which should be valid for the function.\n",
            "  df.groupby('majority_gender').sum()['roberta_neu']\n"
          ]
        },
        {
          "output_type": "execute_result",
          "data": {
            "text/plain": [
              "majority_gender\n",
              "andy               126.974948\n",
              "female            7088.203991\n",
              "male             17629.254817\n",
              "mostly_female      674.072683\n",
              "mostly_male       1205.322599\n",
              "Name: roberta_neu, dtype: float64"
            ]
          },
          "metadata": {},
          "execution_count": 13
        }
      ]
    },
    {
      "cell_type": "code",
      "source": [
        "top_10 = df.sort_values('roberta_neg', ascending=False)[['headline', 'gender_new_multi', 'roberta_neg', 'section']].iloc[:10]\n",
        "latex = top_10.to_latex(index=False, float_format=\"%.3f\")\n",
        "print(latex)"
      ],
      "metadata": {
        "colab": {
          "base_uri": "https://localhost:8080/"
        },
        "id": "pWXPJcBijW7X",
        "outputId": "c1d8f05a-7f95-4676-ec96-3bb8ac317428"
      },
      "execution_count": null,
      "outputs": [
        {
          "output_type": "stream",
          "name": "stdout",
          "text": [
            "\\begin{tabular}{llrl}\n",
            "\\toprule\n",
            "                                          headline & gender\\_new\\_multi &  roberta\\_neg &   section \\\\\n",
            "\\midrule\n",
            "The Yankees and Their Terrible, Horrible, No-Go... &             Male &        0.964 &    Sports \\\\\n",
            "                     Why Are Americans So Anxious? &           Female &        0.960 &     Books \\\\\n",
            "                          Why Is My Baby So Hairy? &           Female &        0.957 & Parenting \\\\\n",
            "             The Aperol Spritz Is Not a Good Drink &           Female &        0.954 &      Food \\\\\n",
            "              Just How Bad Are the Miami Dolphins? &             Male &        0.950 &    Sports \\\\\n",
            "Why Do People Who Need Help From the Government... &             Male &        0.948 &     Books \\\\\n",
            "                  How Racism Is Destroying America &             Male &        0.945 &     Books \\\\\n",
            "               Why the Greek Bailout Went So Wrong &             Male &        0.944 &     Books \\\\\n",
            "When the Aftermath of a Shooting Is as Devastat... &           Female &        0.941 &     Books \\\\\n",
            "The Paintings Are Delicate. The Show’s a Shambles. &             Male &        0.940 &      Arts \\\\\n",
            "\\bottomrule\n",
            "\\end{tabular}\n",
            "\n"
          ]
        },
        {
          "output_type": "stream",
          "name": "stderr",
          "text": [
            "<ipython-input-44-90780fad28ee>:2: FutureWarning: In future versions `DataFrame.to_latex` is expected to utilise the base implementation of `Styler.to_latex` for formatting and rendering. The arguments signature may therefore change. It is recommended instead to use `DataFrame.style.to_latex` which also contains additional functionality.\n",
            "  latex = top_10.to_latex(index=False, float_format=\"%.3f\")\n"
          ]
        }
      ]
    },
    {
      "cell_type": "code",
      "source": [
        "top_10 = df.sort_values('roberta_neu', ascending=False)[['headline', 'gender_new_multi', 'roberta_neu', 'section']].iloc[:10]\n",
        "latex = top_10.to_latex(index=False, float_format=\"%.3f\")\n",
        "print(latex)"
      ],
      "metadata": {
        "colab": {
          "base_uri": "https://localhost:8080/"
        },
        "id": "tlyG-S6Qw8Gc",
        "outputId": "285cde66-0aa0-43a2-ef1b-832ce0673299"
      },
      "execution_count": null,
      "outputs": [
        {
          "output_type": "stream",
          "name": "stdout",
          "text": [
            "\\begin{tabular}{llrl}\n",
            "\\toprule\n",
            "                                          headline & gender\\_new\\_multi &  roberta\\_neu & section \\\\\n",
            "\\midrule\n",
            "Yankees Acquire Todd Frazier and David Robertso... &      Androgenous &        0.962 &  Sports \\\\\n",
            "Coco Gauff Will Play in the U.S. Open as a Wild... &             Male &        0.962 &  Sports \\\\\n",
            "Allie Kiick, No. 633, Qualifies for Main Draw o... &           Female &        0.962 &  Sports \\\\\n",
            "British Open Leaderboard: Jordan Spieth Pulls A... &           Female &        0.959 &  Sports \\\\\n",
            "Tiger Woods Cards a 76 at Torrey Pines in Tour ... &           Female &        0.959 &  Sports \\\\\n",
            "Mets Select Two Pitchers From Long Island in Am... &      Androgenous &        0.959 &  Sports \\\\\n",
            "The Menil Drawing Institute in Houston Will Ope... &             Male &        0.958 &    Arts \\\\\n",
            "  Yankees Pick C.C. Sabathia for 5th Rotation Slot &             Male &        0.958 &  Sports \\\\\n",
            "Mets Announce Dominic Smith Will Make His Debut... &             Male &        0.958 &  Sports \\\\\n",
            "Phil Mickelson to Join Jordan Spieth in a Marqu... &           Female &        0.958 &  Sports \\\\\n",
            "\\bottomrule\n",
            "\\end{tabular}\n",
            "\n"
          ]
        },
        {
          "output_type": "stream",
          "name": "stderr",
          "text": [
            "<ipython-input-45-b4a3c038b0dd>:2: FutureWarning: In future versions `DataFrame.to_latex` is expected to utilise the base implementation of `Styler.to_latex` for formatting and rendering. The arguments signature may therefore change. It is recommended instead to use `DataFrame.style.to_latex` which also contains additional functionality.\n",
            "  latex = top_10.to_latex(index=False, float_format=\"%.3f\")\n"
          ]
        }
      ]
    },
    {
      "cell_type": "code",
      "source": [
        "top_10 = df.sort_values('roberta_pos', ascending=False)[['headline', 'gender_new_multi', 'roberta_pos', 'section']].iloc[:10]\n",
        "latex = top_10.to_latex(index=False, float_format=\"%.3f\")\n",
        "print(latex)"
      ],
      "metadata": {
        "colab": {
          "base_uri": "https://localhost:8080/"
        },
        "id": "nC8563CwxDGg",
        "outputId": "7b61d9aa-891e-4b77-b4f7-04bc5c2a0954"
      },
      "execution_count": null,
      "outputs": [
        {
          "output_type": "stream",
          "name": "stdout",
          "text": [
            "\\begin{tabular}{llrl}\n",
            "\\toprule\n",
            "                                          headline & gender\\_new\\_multi &  roberta\\_pos &   section \\\\\n",
            "\\midrule\n",
            "Comfort Viewing: 3 Reasons I Love ‘Tim and Eric... &             Male &        0.985 &      Arts \\\\\n",
            "   My C-Section Was the Happiest Moment of My Life &           Female &        0.985 & Parenting \\\\\n",
            "The Islanders’ Travis Hamonic Is as Excited as ... &             Male &        0.982 &    Sports \\\\\n",
            "This A.C.C. Might Be the Best Basketball League... &             Male &        0.981 &    Sports \\\\\n",
            "              Happy 20th Anniversary, Harry Potter &           Female &        0.977 &     Books \\\\\n",
            "Late Night Wishes President Trump a Happy Birthday &             Male &        0.976 &      Arts \\\\\n",
            "Twitter Loves the Opera Diva Karita Mattila. An... &             Male &        0.976 &      Arts \\\\\n",
            "Nashville Celebrates Its Heroes and Welcomes Be... &             Male &        0.976 &      Arts \\\\\n",
            "The New Season of ‘GLOW’ Is Even Better Than th... &           Female &        0.974 &      Arts \\\\\n",
            "Ridiculous! Fabulous! On Broadway, Tapping in Q... &             Male &        0.972 &      Arts \\\\\n",
            "\\bottomrule\n",
            "\\end{tabular}\n",
            "\n"
          ]
        },
        {
          "output_type": "stream",
          "name": "stderr",
          "text": [
            "<ipython-input-46-4fca7ed48fc9>:2: FutureWarning: In future versions `DataFrame.to_latex` is expected to utilise the base implementation of `Styler.to_latex` for formatting and rendering. The arguments signature may therefore change. It is recommended instead to use `DataFrame.style.to_latex` which also contains additional functionality.\n",
            "  latex = top_10.to_latex(index=False, float_format=\"%.3f\")\n"
          ]
        }
      ]
    },
    {
      "cell_type": "code",
      "source": [
        "\n",
        "male_authors = df[df['gender_new_multi'] == 'Male']\n",
        "female_authors = df[df['gender_new_multi'] == 'Female']\n",
        "\n",
        "fig, axs = plt.subplots(ncols=3, figsize=(12, 4))\n",
        "\n",
        "\n",
        "axs[0].hist(male_authors['roberta_neg'], alpha=0.5, label='Male Authors')\n",
        "axs[0].hist(female_authors['roberta_neg'], alpha=0.5, label='Female Authors')\n",
        "axs[0].set_xlabel('Negative Scores')\n",
        "axs[0].set_ylabel('Frequency')\n",
        "axs[0].set_title('Negative Scores')\n",
        "\n",
        "axs[1].hist(male_authors['roberta_neu'], alpha=0.5, label='Male Authors')\n",
        "axs[1].hist(female_authors['roberta_neu'], alpha=0.5, label='Female Authors')\n",
        "axs[1].set_xlabel('Neutral Scores')\n",
        "axs[1].set_ylabel('Frequency')\n",
        "axs[1].set_title('Neutral Scores')\n",
        "\n",
        "axs[2].hist(male_authors['roberta_pos'], alpha=0.5, label='Male Authors')\n",
        "axs[2].hist(female_authors['roberta_pos'], alpha=0.5, label='Female Authors')\n",
        "axs[2].set_xlabel('Positive Scores')\n",
        "axs[2].set_ylabel('Frequency')\n",
        "axs[2].set_title('Positive Scores')\n",
        "\n",
        "plt.suptitle('Author Gender - Polarity Scores')\n",
        "plt.legend()\n",
        "plt.tight_layout()\n",
        "plt.savefig('new.png', dpi=300)\n",
        "plt.show()"
      ],
      "metadata": {
        "colab": {
          "base_uri": "https://localhost:8080/",
          "height": 413
        },
        "id": "qdAE0suvzfEp",
        "outputId": "becbbf46-2183-43bf-df61-2c72653c8a98"
      },
      "execution_count": null,
      "outputs": [
        {
          "output_type": "display_data",
          "data": {
            "text/plain": [
              "<Figure size 1200x400 with 3 Axes>"
            ],
            "image/png": "[encoded data removed]"
          },
          "metadata": {}
        }
      ]
    },
    {
      "cell_type": "markdown",
      "source": [
        "### Statistical and econometric analysis\n"
      ],
      "metadata": {
        "id": "-FHC17ZBqTyG"
      }
    },
    {
      "cell_type": "code",
      "source": [
        "grouped = df.groupby('gender_new_multi')\n",
        "stats_df = grouped[['roberta_neg', 'roberta_neu', 'roberta_pos']].agg(['mean', 'median', 'var', 'std'])\n",
        "\n",
        "print(stats_df)"
      ],
      "metadata": {
        "colab": {
          "base_uri": "https://localhost:8080/"
        },
        "id": "WIMlz4MQ60w9",
        "outputId": "ffd7a0b0-41b5-4f2c-87d0-f88ce2396498"
      },
      "execution_count": null,
      "outputs": [
        {
          "output_type": "stream",
          "name": "stdout",
          "text": [
            "                 roberta_neg                               roberta_neu  \\\n",
            "                        mean    median       var       std        mean   \n",
            "gender_new_multi                                                         \n",
            "Androgenous         0.125850  0.030168  0.034136  0.184759    0.697665   \n",
            "Female              0.137491  0.043319  0.037785  0.194383    0.724161   \n",
            "Male                0.143211  0.042559  0.039734  0.199335    0.710471   \n",
            "\n",
            "                                               roberta_pos            \\\n",
            "                    median       var       std        mean    median   \n",
            "gender_new_multi                                                       \n",
            "Androgenous       0.740316  0.039421  0.198548    0.176486  0.078566   \n",
            "Female            0.805719  0.042973  0.207299    0.138349  0.073997   \n",
            "Male              0.787599  0.045169  0.212530    0.146318  0.071299   \n",
            "\n",
            "                                      \n",
            "                       var       std  \n",
            "gender_new_multi                      \n",
            "Androgenous       0.037040  0.192457  \n",
            "Female            0.030424  0.174423  \n",
            "Male              0.034674  0.186210  \n"
          ]
        }
      ]
    },
    {
      "cell_type": "code",
      "source": [
        "for col in ['roberta_neg', 'roberta_neu', 'roberta_pos']:\n",
        "    male_scores = df[df['gender_new_multi'] == 'Male'][col]\n",
        "    female_scores = df[df['gender_new_multi'] == 'Female'][col]\n",
        "    t_stat, p_value = stats.ttest_ind(male_scores, female_scores, equal_var=False)\n",
        "    print(f\"{col} t-statistic: {t_stat:.3f}, p-value: {p_value:.3f}\")"
      ],
      "metadata": {
        "id": "vT2sYBU-Be-f"
      },
      "execution_count": null,
      "outputs": []
    },
    {
      "cell_type": "code",
      "source": [
        "y = df['roberta_neg']\n",
        "X = df[['gender_new_multi', 'section', 'year']]\n",
        "\n",
        "X = pd.get_dummies(X, columns=['section', 'gender_new_multi'])\n",
        "\n",
        "X = X.drop(columns=['gender_new_multi_Androgenous'])\n",
        "\n",
        "X = sm.add_constant(X)\n",
        "model = sm.OLS(y, X).fit()\n",
        "print(model.summary())\n"
      ],
      "metadata": {
        "colab": {
          "base_uri": "https://localhost:8080/"
        },
        "id": "mfQ7rOxZ8DKV",
        "outputId": "52d40126-55c3-4782-b4cd-5adaabe8ea61"
      },
      "execution_count": null,
      "outputs": [
        {
          "output_type": "stream",
          "name": "stdout",
          "text": [
            "                            OLS Regression Results                            \n",
            "==============================================================================\n",
            "Dep. Variable:            roberta_neg   R-squared:                       0.024\n",
            "Model:                            OLS   Adj. R-squared:                  0.024\n",
            "Method:                 Least Squares   F-statistic:                     77.71\n",
            "Date:                Thu, 27 Apr 2023   Prob (F-statistic):          1.64e-189\n",
            "Time:                        01:00:12   Log-Likelihood:                 7987.6\n",
            "No. Observations:               37411   AIC:                        -1.595e+04\n",
            "Df Residuals:                   37398   BIC:                        -1.584e+04\n",
            "Df Model:                          12                                         \n",
            "Covariance Type:            nonrobust                                         \n",
            "===========================================================================================\n",
            "                              coef    std err          t      P>|t|      [0.025      0.975]\n",
            "-------------------------------------------------------------------------------------------\n",
            "const                     -22.8288      1.296    -17.619      0.000     -25.368     -20.289\n",
            "year                        0.0125      0.001     17.721      0.000       0.011       0.014\n",
            "section_Arts               -2.3291      0.130    -17.889      0.000      -2.584      -2.074\n",
            "section_Books              -2.2729      0.130    -17.447      0.000      -2.528      -2.018\n",
            "section_Education          -2.2633      0.131    -17.308      0.000      -2.520      -2.007\n",
            "section_Fashion & Style    -2.3711      0.130    -18.193      0.000      -2.627      -2.116\n",
            "section_Food               -2.3716      0.131    -18.062      0.000      -2.629      -2.114\n",
            "section_Movies             -2.1079      0.180    -11.737      0.000      -2.460      -1.756\n",
            "section_Parenting          -2.2150      0.132    -16.736      0.000      -2.474      -1.956\n",
            "section_Science            -2.2862      0.133    -17.227      0.000      -2.546      -2.026\n",
            "section_Sports             -2.2996      0.130    -17.685      0.000      -2.554      -2.045\n",
            "section_Technology         -2.3121      0.130    -17.738      0.000      -2.568      -2.057\n",
            "gender_new_multi_Female     0.0168      0.015      1.143      0.253      -0.012       0.046\n",
            "gender_new_multi_Male       0.0271      0.015      1.862      0.063      -0.001       0.056\n",
            "==============================================================================\n",
            "Omnibus:                    11235.890   Durbin-Watson:                   1.983\n",
            "Prob(Omnibus):                  0.000   Jarque-Bera (JB):            26415.143\n",
            "Skew:                           1.725   Prob(JB):                         0.00\n",
            "Kurtosis:                       5.246   Cond. No.                     6.07e+18\n",
            "==============================================================================\n",
            "\n",
            "Notes:\n",
            "[1] Standard Errors assume that the covariance matrix of the errors is correctly specified.\n",
            "[2] The smallest eigenvalue is 4.13e-27. This might indicate that there are\n",
            "strong multicollinearity problems or that the design matrix is singular.\n"
          ]
        }
      ]
    },
    {
      "cell_type": "code",
      "source": [
        "df['year'] = df['year'].astype(int)\n",
        "\n",
        "plt.figure(figsize=(8,5))\n",
        "sns.lineplot(x='year', y='roberta_neg', data=df)\n",
        "\n",
        "plt.xticks(df['year'].unique())\n",
        "plt.xlabel('Year')\n",
        "plt.ylabel('Negative Polarity')\n",
        "plt.title('Negative Polarity Score - Year')\n",
        "plt.savefig('neg-year.png', dpi=300)\n",
        "plt.show()\n"
      ],
      "metadata": {
        "colab": {
          "base_uri": "https://localhost:8080/",
          "height": 492
        },
        "id": "5dMJpsA52TdG",
        "outputId": "7bd35f74-a602-4cfe-9fbf-41d3e055f482"
      },
      "execution_count": null,
      "outputs": [
        {
          "output_type": "display_data",
          "data": {
            "text/plain": [
              "<Figure size 800x500 with 1 Axes>"
            ],
            "image/png": "[encoded data removed]"
          },
          "metadata": {}
        }
      ]
    }
  ]
}